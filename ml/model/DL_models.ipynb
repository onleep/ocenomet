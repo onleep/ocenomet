{
  "cells": [
    {
      "cell_type": "code",
      "execution_count": 5,
      "metadata": {
        "colab": {
          "base_uri": "https://localhost:8080/"
        },
        "id": "C2t1_pPFKSya",
        "outputId": "01fce91c-bb10-41f9-bcf8-887ccb3d7b4e"
      },
      "outputs": [
        {
          "output_type": "stream",
          "name": "stderr",
          "text": [
            "<ipython-input-5-49c99577ebd4>:43: UserWarning: pandas only supports SQLAlchemy connectable (engine/connection) or database string URI or sqlite3 DBAPI2 connection. Other DBAPI2 objects are not tested. Please consider using SQLAlchemy.\n",
            "  dfs[table] = pd.read_sql(query, connection)\n",
            "<ipython-input-5-49c99577ebd4>:91: FutureWarning: A value is trying to be set on a copy of a DataFrame or Series through chained assignment using an inplace method.\n",
            "The behavior will change in pandas 3.0. This inplace method will never work because the intermediate object on which we are setting values always behaves as a copy.\n",
            "\n",
            "For example, when doing 'df[col].method(value, inplace=True)', try using 'df.method({col: value}, inplace=True)' or df[col] = df[col].method(value) instead, to perform the operation inplace on the original object.\n",
            "\n",
            "\n",
            "  df['living_area'].fillna(df['total_area'] * mean_proportion_living_area, inplace=True)\n",
            "<ipython-input-5-49c99577ebd4>:95: FutureWarning: A value is trying to be set on a copy of a DataFrame or Series through chained assignment using an inplace method.\n",
            "The behavior will change in pandas 3.0. This inplace method will never work because the intermediate object on which we are setting values always behaves as a copy.\n",
            "\n",
            "For example, when doing 'df[col].method(value, inplace=True)', try using 'df.method({col: value}, inplace=True)' or df[col] = df[col].method(value) instead, to perform the operation inplace on the original object.\n",
            "\n",
            "\n",
            "  df['kitchen_area'].fillna((df['total_area'] - df['living_area']) * mean_proportion_kitchen_area, inplace=True)\n"
          ]
        }
      ],
      "source": [
        "import psycopg2\n",
        "import pandas as pd\n",
        "import numpy as np\n",
        "from sklearn.pipeline import Pipeline\n",
        "from sklearn.preprocessing import OneHotEncoder, StandardScaler\n",
        "from sklearn.compose import ColumnTransformer\n",
        "from sklearn.model_selection import train_test_split\n",
        "from category_encoders import TargetEncoder\n",
        "from sklearn.metrics import mean_squared_error, r2_score, mean_absolute_error, mean_absolute_percentage_error\n",
        "import xgboost as xgb\n",
        "from google.colab import userdata\n",
        "import torch\n",
        "import torch.nn as nn\n",
        "import torch.optim as optim\n",
        "from torch.utils.data import TensorDataset, DataLoader\n",
        "from pytorch_tabnet.tab_model import TabNetRegressor\n",
        "\n",
        "# Загрузка данных\n",
        "def load_data():\n",
        "    db_host = userdata.get('db_host')\n",
        "    db_port = userdata.get('db_port')\n",
        "    db_name = userdata.get('db_name')\n",
        "    db_user = userdata.get('db_user')\n",
        "    db_password = userdata.get('db_password')\n",
        "\n",
        "    if db_port and isinstance(db_port, str):\n",
        "        db_port = int(db_port)\n",
        "\n",
        "    connection = psycopg2.connect(\n",
        "        host=db_host,\n",
        "        port=db_port,\n",
        "        database=db_name,\n",
        "        user=db_user,\n",
        "        password=db_password\n",
        "    )\n",
        "\n",
        "    tables = [\"addresses\", \"developers\", \"offers\", \"offers_details\",\n",
        "              \"realty_details\", \"realty_inside\", \"realty_outside\"]\n",
        "\n",
        "    dfs = {}\n",
        "    for table in tables:\n",
        "        query = f\"SELECT * FROM public.{table};\"\n",
        "        dfs[table] = pd.read_sql(query, connection)\n",
        "\n",
        "    connection.close()\n",
        "\n",
        "    return dfs\n",
        "\n",
        "# Функция очистки данных\n",
        "def clean_data(dfs):\n",
        "    dfs['addresses']['lat'] = dfs['addresses']['coordinates'].apply(lambda x: x['lat'] if isinstance(x, dict) else None)\n",
        "    dfs['addresses']['lng'] = dfs['addresses']['coordinates'].apply(lambda x: x['lng'] if isinstance(x, dict) else None)\n",
        "    dfs['addresses'].drop(columns=['id', 'coordinates', 'address', 'created_at', 'updated_at'], inplace=True)\n",
        "    dfs['developers'].drop(columns=['id', 'created_at', 'updated_at'], inplace=True)\n",
        "    dfs['offers'].drop(columns=['id', 'created_at', 'updated_at'], inplace=True)\n",
        "    dfs['offers_details'].drop(columns=['id', 'created_at', 'updated_at'], inplace=True)\n",
        "    dfs['realty_details']['finish_year'] = dfs['realty_details']['finish_date'].apply(lambda x: x.get('year') if isinstance(x, dict) else None)\n",
        "    dfs['realty_details'].drop(columns=['id', 'finish_date', 'created_at', 'updated_at'], inplace=True)\n",
        "    dfs['realty_inside'].drop(columns=['id', 'created_at', 'updated_at'], inplace=True)\n",
        "    dfs['realty_outside'].drop(columns=['id', 'created_at', 'updated_at'], inplace=True)\n",
        "\n",
        "    main_df = dfs['addresses'].merge(dfs['offers'], on='cian_id', how='inner') \\\n",
        "                              .merge(dfs['offers_details'], on='cian_id', how='inner')\n",
        "\n",
        "    tables_to_left_join = ['developers', 'realty_details', 'realty_inside', 'realty_outside']\n",
        "    for table in tables_to_left_join:\n",
        "        main_df = main_df.merge(dfs[table], on='cian_id', how='left')\n",
        "\n",
        "    return main_df\n",
        "\n",
        "# Функция очистки выбросов\n",
        "def remove_outliers_soft(df, column):\n",
        "    Q1 = df[column].quantile(0.25)\n",
        "    Q3 = df[column].quantile(0.75)\n",
        "    IQR = Q3 - Q1\n",
        "    lower_bound = Q1 - 3 * IQR\n",
        "    upper_bound = Q3 + 3 * IQR\n",
        "    return df[(df[column] >= lower_bound) & (df[column] <= upper_bound)]\n",
        "\n",
        "# Функция обработки пропущенных значений\n",
        "def handle_missing_values(df):\n",
        "    df.fillna({\n",
        "        'loggias': 0, 'separated_wc': 0, 'balconies': 0, 'combined_wc': 0, 'passenger_lifts': 0,\n",
        "        'total_rate': df['total_rate'].mean(),\n",
        "        'review_count': df['review_count'].mean(),\n",
        "        'ceiling_height': df['ceiling_height'].mean(),\n",
        "        'build_year': df['finish_year']\n",
        "    }, inplace=True)\n",
        "\n",
        "    mean_proportion_living_area = (df['living_area'] / df['total_area']).mean()\n",
        "    df['living_area'].fillna(df['total_area'] * mean_proportion_living_area, inplace=True)\n",
        "\n",
        "    mask = (df['total_area'] - df['living_area']) != 0\n",
        "    mean_proportion_kitchen_area = (df.loc[mask, 'kitchen_area'] / (df.loc[mask, 'total_area'] - df.loc[mask, 'living_area'])).mean()\n",
        "    df['kitchen_area'].fillna((df['total_area'] - df['living_area']) * mean_proportion_kitchen_area, inplace=True)\n",
        "\n",
        "    df.drop(columns=['finish_year'], inplace=True)\n",
        "\n",
        "    return df\n",
        "\n",
        "# Функция кодирования категориальных переменных\n",
        "def encode_features(df):\n",
        "    onehot_columns = ['county', 'flat_type', 'sale_type', 'category', 'material_type', 'travel_type']\n",
        "    target_columns = ['district', 'project_type', 'metro']\n",
        "    ordinal_columns = {'repair_type': {'no': 0, 'cosmetic': 1, 'euro': 2, 'design': 3}}\n",
        "\n",
        "    onehot_encoder = OneHotEncoder(drop='first', sparse_output=False, handle_unknown='ignore')\n",
        "    df_onehot = pd.DataFrame(onehot_encoder.fit_transform(df[onehot_columns]), columns=onehot_encoder.get_feature_names_out(onehot_columns))\n",
        "\n",
        "    for col, mapping in ordinal_columns.items():\n",
        "        df[col] = df[col].map(mapping)\n",
        "\n",
        "    target_encoder = TargetEncoder()\n",
        "    df_target = target_encoder.fit_transform(df[target_columns], df['price'])\n",
        "\n",
        "    df.drop(columns=onehot_columns + target_columns, inplace=True)\n",
        "    df = pd.concat([df, df_onehot, df_target], axis=1)\n",
        "\n",
        "    return df\n",
        "\n",
        "# Функция удаления нечисловых колонок\n",
        "def remove_non_numeric(df):\n",
        "    non_numeric_columns = df.select_dtypes(include=['object']).columns\n",
        "    df = df.drop(columns=non_numeric_columns)\n",
        "    return df\n",
        "\n",
        "# Функция обработки данных\n",
        "def process_data():\n",
        "    dfs = load_data()\n",
        "    df = clean_data(dfs)\n",
        "\n",
        "    columns_to_clean = ['price', 'total_area', 'living_area', 'kitchen_area', 'rooms_count']\n",
        "    for column in columns_to_clean:\n",
        "        df = remove_outliers_soft(df, column)\n",
        "\n",
        "    df = handle_missing_values(df)\n",
        "    df = encode_features(df)\n",
        "    df = remove_non_numeric(df)\n",
        "\n",
        "    df = df.dropna(subset=['price'])\n",
        "\n",
        "    X = df.drop(columns=['price'])\n",
        "    y = df['price']\n",
        "\n",
        "    X_train, X_test, y_train, y_test = train_test_split(X, y, test_size=0.2, random_state=42)\n",
        "\n",
        "    X_train.fillna(X_train.mean(), inplace=True)\n",
        "    X_test.fillna(X_test.mean(), inplace=True)\n",
        "\n",
        "    return X_train, X_test, y_train, y_test\n",
        "\n",
        "# Запуск обработки данных\n",
        "X_train, X_test, y_train, y_test = process_data()\n"
      ]
    },
    {
      "cell_type": "code",
      "source": [
        "X_train.shape"
      ],
      "metadata": {
        "colab": {
          "base_uri": "https://localhost:8080/"
        },
        "id": "VODHmaSSu356",
        "outputId": "99284ae5-e6da-4850-d86a-3f8347b90434"
      },
      "execution_count": 6,
      "outputs": [
        {
          "output_type": "execute_result",
          "data": {
            "text/plain": [
              "(92017, 62)"
            ]
          },
          "metadata": {},
          "execution_count": 6
        }
      ]
    },
    {
      "cell_type": "code",
      "source": [
        "y_train = y_train.to_numpy().reshape(-1, 1)\n",
        "y_test = y_test.to_numpy().reshape(-1,1)"
      ],
      "metadata": {
        "id": "4C_sH3FjwALu"
      },
      "execution_count": 7,
      "outputs": []
    },
    {
      "cell_type": "code",
      "source": [
        "scaler_X = StandardScaler()\n",
        "scaler_y = StandardScaler()"
      ],
      "metadata": {
        "id": "QYkFv3Rqv5vo"
      },
      "execution_count": 8,
      "outputs": []
    },
    {
      "cell_type": "code",
      "source": [
        "X_train = scaler_X.fit_transform(X_train)\n",
        "X_test = scaler_X.transform(X_test)\n",
        "y_train = scaler_y.fit_transform(y_train)\n",
        "y_test = scaler_y.transform(y_test)\n"
      ],
      "metadata": {
        "id": "qzvTQ9HQvb-0"
      },
      "execution_count": 9,
      "outputs": []
    },
    {
      "cell_type": "code",
      "source": [
        "X_train_tensor = torch.tensor(X_train, dtype=torch.float32)\n",
        "y_train_tensor = torch.tensor(y_train, dtype=torch.float32)\n",
        "X_test_tensor = torch.tensor(X_test, dtype=torch.float32)\n",
        "y_test_tensor = torch.tensor(y_test, dtype=torch.float32)"
      ],
      "metadata": {
        "id": "RlRSMhtRwi21"
      },
      "execution_count": 10,
      "outputs": []
    },
    {
      "cell_type": "code",
      "source": [
        "train_loader = DataLoader(TensorDataset(X_train_tensor, y_train_tensor), batch_size=32, shuffle=True)\n",
        "test_loader = DataLoader(TensorDataset(X_test_tensor, y_test_tensor), batch_size=32)\n"
      ],
      "metadata": {
        "id": "2esBKyPRwnuA"
      },
      "execution_count": 11,
      "outputs": []
    },
    {
      "cell_type": "code",
      "source": [
        "class MLPRegressor(nn.Module):\n",
        "    def __init__(self, input_dim, hidden_dim):\n",
        "        super().__init__()\n",
        "        self.model = nn.Sequential(\n",
        "            nn.Linear(input_dim, hidden_dim),\n",
        "            nn.ReLU(),\n",
        "            nn.Linear(hidden_dim, hidden_dim),\n",
        "            nn.ReLU(),\n",
        "            nn.Linear(hidden_dim, 1)\n",
        "        )\n",
        "\n",
        "    def forward(self, x):\n",
        "        return self.model(x)"
      ],
      "metadata": {
        "id": "xwnmYiKAwyP-"
      },
      "execution_count": 12,
      "outputs": []
    },
    {
      "cell_type": "code",
      "source": [
        "device = torch.device(\"cuda\" if torch.cuda.is_available() else \"cpu\")\n",
        "input_dim = X_train.shape[1]\n",
        "model = MLPRegressor(input_dim = input_dim, hidden_dim=64).to(device)"
      ],
      "metadata": {
        "id": "kFwYAVv0w1RE"
      },
      "execution_count": 13,
      "outputs": []
    },
    {
      "cell_type": "code",
      "source": [
        "criterion = nn.MSELoss()\n",
        "optimizer = optim.Adam(model.parameters(), lr=0.001)\n",
        "\n",
        "for epoch in range(20):\n",
        "    model.train()\n",
        "    for X_batch, y_batch in train_loader:\n",
        "        X_batch = X_batch.to(device)\n",
        "        y_batch = y_batch.to(device)\n",
        "\n",
        "        optimizer.zero_grad()\n",
        "        output = model(X_batch)\n",
        "        loss = criterion(output, y_batch)\n",
        "        loss.backward()\n",
        "        optimizer.step()\n",
        "\n",
        "    print(f\"Epoch {epoch+1}, Loss: {loss.item():.4f}\")\n",
        "\n"
      ],
      "metadata": {
        "id": "1sF-h1Law_0V",
        "colab": {
          "base_uri": "https://localhost:8080/"
        },
        "outputId": "dbc594f0-c206-4738-9583-242144de119e"
      },
      "execution_count": 15,
      "outputs": [
        {
          "output_type": "stream",
          "name": "stdout",
          "text": [
            "Epoch 1, Loss: 0.0452\n",
            "Epoch 2, Loss: 0.1572\n",
            "Epoch 3, Loss: 0.1386\n",
            "Epoch 4, Loss: 0.0640\n",
            "Epoch 5, Loss: 0.0422\n",
            "Epoch 6, Loss: 0.0387\n",
            "Epoch 7, Loss: 0.0459\n",
            "Epoch 8, Loss: 0.0289\n",
            "Epoch 9, Loss: 0.0355\n",
            "Epoch 10, Loss: 0.0774\n",
            "Epoch 11, Loss: 0.0813\n",
            "Epoch 12, Loss: 0.0572\n",
            "Epoch 13, Loss: 0.0431\n",
            "Epoch 14, Loss: 0.0714\n",
            "Epoch 15, Loss: 0.0880\n",
            "Epoch 16, Loss: 0.0219\n",
            "Epoch 17, Loss: 0.2654\n",
            "Epoch 18, Loss: 0.0857\n",
            "Epoch 19, Loss: 0.0813\n",
            "Epoch 20, Loss: 0.0412\n"
          ]
        }
      ]
    },
    {
      "cell_type": "code",
      "source": [
        "model.eval()\n",
        "preds = []\n",
        "targets = []\n",
        "\n",
        "with torch.no_grad():\n",
        "    for X_batch, y_batch in test_loader:\n",
        "        X_batch = X_batch.to(device)\n",
        "        y_batch = y_batch.to(device)\n",
        "        output = model(X_batch)\n",
        "\n",
        "        preds.append(output.cpu())\n",
        "        targets.append(y_batch.cpu())\n",
        "\n",
        "# Объединяем\n",
        "preds = torch.cat(preds).numpy()\n",
        "targets = torch.cat(targets).numpy()\n",
        "\n",
        "# Возвращаем в исходный масштаб\n",
        "preds_unscaled = scaler_y.inverse_transform(preds)\n",
        "targets_unscaled = scaler_y.inverse_transform(targets)\n",
        "\n",
        "# Метрики\n",
        "mse = ((preds_unscaled - targets_unscaled) ** 2).mean()\n",
        "mape = mean_absolute_percentage_error(targets_unscaled, preds_unscaled)\n",
        "r2 = r2_score(targets_unscaled, preds_unscaled)\n",
        "\n",
        "print(f\"\\nTest MSE: {mse:.4f}\")\n",
        "print(f\"Test MAPE: {mape:.2%}\")\n",
        "print(f\"Test R²: {r2:.4f}\")"
      ],
      "metadata": {
        "colab": {
          "base_uri": "https://localhost:8080/"
        },
        "id": "_RoDDXJHz7Qd",
        "outputId": "1e10fe63-e345-467a-f6b6-8c51b8bc1726"
      },
      "execution_count": 16,
      "outputs": [
        {
          "output_type": "stream",
          "name": "stdout",
          "text": [
            "\n",
            "Test MSE: 23341461143552.0000\n",
            "Test MAPE: 14.84%\n",
            "Test R²: 0.9016\n"
          ]
        }
      ]
    },
    {
      "cell_type": "code",
      "source": [
        "table_model = TabNetRegressor(verbose=1, device_name= 'cuda')"
      ],
      "metadata": {
        "colab": {
          "base_uri": "https://localhost:8080/"
        },
        "id": "AvILNtIi28XN",
        "outputId": "aed078e6-c90a-4ad5-c5f7-eb02cb643c2e"
      },
      "execution_count": null,
      "outputs": [
        {
          "output_type": "stream",
          "name": "stderr",
          "text": [
            "/usr/local/lib/python3.11/dist-packages/pytorch_tabnet/abstract_model.py:82: UserWarning: Device used : cuda\n",
            "  warnings.warn(f\"Device used : {self.device}\")\n"
          ]
        }
      ]
    },
    {
      "cell_type": "code",
      "source": [
        "table_model.fit(\n",
        "    X_train=X_train, y_train=y_train,\n",
        "    eval_set=[(X_test, y_test)],\n",
        "    eval_metric=['mse'],\n",
        "    max_epochs=100,\n",
        "    patience=10,\n",
        "    batch_size=256,\n",
        "    virtual_batch_size=128\n",
        ")\n",
        "\n",
        "# 4. Предсказание\n",
        "preds = table_model.predict(X_test)\n",
        "preds_inv = scaler_y.inverse_transform(preds)\n",
        "y_test_inv = scaler_y.inverse_transform(y_test)\n",
        "\n",
        "# 5. Метрики\n",
        "mse = mean_squared_error(y_test_inv, preds_inv)\n",
        "r2 = r2_score(y_test_inv, preds_inv)\n",
        "mape = mean_absolute_percentage_error(y_test_inv, preds_inv)\n",
        "\n",
        "print(f\"Test MSE: {mse:.4f}\")\n",
        "print(f\"Test R²: {r2:.4f}\")\n",
        "print(f\"Test MAPE: {mape:.2%}\")"
      ],
      "metadata": {
        "colab": {
          "base_uri": "https://localhost:8080/"
        },
        "id": "HUbeIPjp3zPJ",
        "outputId": "df67bd44-c41a-44d9-aa02-ed074a9748a1"
      },
      "execution_count": null,
      "outputs": [
        {
          "output_type": "stream",
          "name": "stdout",
          "text": [
            "epoch 0  | loss: 0.32781 | val_0_mse: 0.17941 |  0:00:11s\n",
            "epoch 1  | loss: 0.20597 | val_0_mse: 0.16506 |  0:00:22s\n",
            "epoch 2  | loss: 0.17822 | val_0_mse: 0.14735 |  0:00:33s\n",
            "epoch 3  | loss: 0.17137 | val_0_mse: 0.14296 |  0:00:44s\n",
            "epoch 4  | loss: 0.15932 | val_0_mse: 0.13937 |  0:00:54s\n",
            "epoch 5  | loss: 0.15169 | val_0_mse: 0.14945 |  0:01:04s\n",
            "epoch 6  | loss: 0.149   | val_0_mse: 0.12758 |  0:01:15s\n",
            "epoch 7  | loss: 0.14253 | val_0_mse: 0.16372 |  0:01:26s\n",
            "epoch 8  | loss: 0.13923 | val_0_mse: 0.12929 |  0:01:36s\n",
            "epoch 9  | loss: 0.13612 | val_0_mse: 0.12528 |  0:01:46s\n",
            "epoch 10 | loss: 0.13325 | val_0_mse: 0.13894 |  0:01:56s\n",
            "epoch 11 | loss: 0.13185 | val_0_mse: 0.12209 |  0:02:07s\n",
            "epoch 12 | loss: 0.1272  | val_0_mse: 0.16139 |  0:02:16s\n",
            "epoch 13 | loss: 0.12893 | val_0_mse: 0.11659 |  0:02:26s\n",
            "epoch 14 | loss: 0.12439 | val_0_mse: 0.11182 |  0:02:36s\n",
            "epoch 15 | loss: 0.13093 | val_0_mse: 0.1595  |  0:02:46s\n",
            "epoch 16 | loss: 0.12919 | val_0_mse: 0.15072 |  0:02:57s\n",
            "epoch 17 | loss: 0.12618 | val_0_mse: 0.13428 |  0:03:07s\n",
            "epoch 18 | loss: 0.12167 | val_0_mse: 0.11005 |  0:03:16s\n",
            "epoch 19 | loss: 0.12308 | val_0_mse: 0.11479 |  0:03:26s\n",
            "epoch 20 | loss: 0.12231 | val_0_mse: 0.13816 |  0:03:36s\n",
            "epoch 21 | loss: 0.11966 | val_0_mse: 0.10671 |  0:03:46s\n",
            "epoch 22 | loss: 0.11964 | val_0_mse: 0.12672 |  0:03:56s\n",
            "epoch 23 | loss: 0.11928 | val_0_mse: 0.11771 |  0:04:06s\n",
            "epoch 24 | loss: 0.11903 | val_0_mse: 0.11271 |  0:04:16s\n",
            "epoch 25 | loss: 0.11727 | val_0_mse: 0.10429 |  0:04:26s\n",
            "epoch 26 | loss: 0.11706 | val_0_mse: 0.12158 |  0:04:36s\n",
            "epoch 27 | loss: 0.11559 | val_0_mse: 0.11101 |  0:04:46s\n",
            "epoch 28 | loss: 0.11726 | val_0_mse: 0.12769 |  0:04:56s\n",
            "epoch 29 | loss: 0.11426 | val_0_mse: 0.14155 |  0:05:06s\n",
            "epoch 30 | loss: 0.11166 | val_0_mse: 0.10083 |  0:05:16s\n",
            "epoch 31 | loss: 0.11313 | val_0_mse: 0.10434 |  0:05:26s\n",
            "epoch 32 | loss: 0.11389 | val_0_mse: 0.10658 |  0:05:36s\n",
            "epoch 33 | loss: 0.11245 | val_0_mse: 0.14421 |  0:05:46s\n",
            "epoch 34 | loss: 0.11273 | val_0_mse: 0.10778 |  0:05:56s\n",
            "epoch 35 | loss: 0.1114  | val_0_mse: 0.11635 |  0:06:06s\n",
            "epoch 36 | loss: 0.11224 | val_0_mse: 0.12226 |  0:06:17s\n",
            "epoch 37 | loss: 0.11111 | val_0_mse: 0.10154 |  0:06:27s\n",
            "epoch 38 | loss: 0.11038 | val_0_mse: 0.11202 |  0:06:37s\n",
            "epoch 39 | loss: 0.10891 | val_0_mse: 0.11949 |  0:06:47s\n",
            "epoch 40 | loss: 0.10853 | val_0_mse: 0.09737 |  0:06:58s\n",
            "epoch 41 | loss: 0.10754 | val_0_mse: 0.12679 |  0:07:08s\n",
            "epoch 42 | loss: 0.10957 | val_0_mse: 0.1055  |  0:07:18s\n",
            "epoch 43 | loss: 0.10929 | val_0_mse: 0.11293 |  0:07:28s\n",
            "epoch 44 | loss: 0.10927 | val_0_mse: 0.10266 |  0:07:38s\n",
            "epoch 45 | loss: 0.10844 | val_0_mse: 0.12843 |  0:07:48s\n",
            "epoch 46 | loss: 0.10854 | val_0_mse: 0.10634 |  0:07:59s\n",
            "epoch 47 | loss: 0.10866 | val_0_mse: 0.10602 |  0:08:09s\n",
            "epoch 48 | loss: 0.10658 | val_0_mse: 0.10895 |  0:08:19s\n",
            "epoch 49 | loss: 0.10611 | val_0_mse: 0.11933 |  0:08:30s\n",
            "epoch 50 | loss: 0.10791 | val_0_mse: 0.11746 |  0:08:40s\n",
            "\n",
            "Early stopping occurred at epoch 50 with best_epoch = 40 and best_val_0_mse = 0.09737\n"
          ]
        },
        {
          "output_type": "stream",
          "name": "stderr",
          "text": [
            "/usr/local/lib/python3.11/dist-packages/pytorch_tabnet/callbacks.py:172: UserWarning: Best weights from best epoch are automatically used!\n",
            "  warnings.warn(wrn_msg)\n"
          ]
        },
        {
          "output_type": "stream",
          "name": "stdout",
          "text": [
            "Test MSE: 23397748162420.6562\n",
            "Test R²: 0.9013\n",
            "Test MAPE: 15.70%\n"
          ]
        }
      ]
    },
    {
      "cell_type": "code",
      "source": [
        "from deepkan import DeepKAN\n",
        "model_kan = DeepKAN(input_dim= X_train.shape[1], hidden_layers=[64, 64, 1]).to(device)\n",
        "\n",
        "for epoch in range(20):\n",
        "    model_kan.train()\n",
        "    for X_batch, y_batch in train_loader:\n",
        "        X_batch = X_batch.to(device)\n",
        "        y_batch = y_batch.to(device)\n",
        "\n",
        "        optimizer.zero_grad()\n",
        "        output = model(X_batch)\n",
        "        loss = criterion(output, y_batch)\n",
        "        loss.backward()\n",
        "        optimizer.step()\n",
        "\n",
        "    print(f\"Epoch {epoch+1}, Loss: {loss.item():.4f}\")"
      ],
      "metadata": {
        "colab": {
          "base_uri": "https://localhost:8080/"
        },
        "id": "tHNPVDwSxLRa",
        "outputId": "995004d8-0d07-40ed-d142-53ea5b9282ac"
      },
      "execution_count": 18,
      "outputs": [
        {
          "output_type": "stream",
          "name": "stdout",
          "text": [
            "Epoch 1, Loss: 0.0326\n",
            "Epoch 2, Loss: 0.0326\n",
            "Epoch 3, Loss: 0.0520\n",
            "Epoch 4, Loss: 0.0305\n",
            "Epoch 5, Loss: 0.0321\n",
            "Epoch 6, Loss: 0.0104\n",
            "Epoch 7, Loss: 0.0294\n",
            "Epoch 8, Loss: 0.0353\n",
            "Epoch 9, Loss: 0.0525\n",
            "Epoch 10, Loss: 0.1136\n",
            "Epoch 11, Loss: 0.0748\n",
            "Epoch 12, Loss: 0.0627\n",
            "Epoch 13, Loss: 0.1025\n",
            "Epoch 14, Loss: 0.0361\n",
            "Epoch 15, Loss: 0.0559\n",
            "Epoch 16, Loss: 0.0447\n",
            "Epoch 17, Loss: 0.0325\n",
            "Epoch 18, Loss: 0.0401\n",
            "Epoch 19, Loss: 0.0896\n",
            "Epoch 20, Loss: 0.0719\n"
          ]
        }
      ]
    },
    {
      "cell_type": "code",
      "source": [
        "model_kan.eval()\n",
        "preds = []\n",
        "targets = []\n",
        "\n",
        "with torch.no_grad():\n",
        "    for X_batch, y_batch in test_loader:\n",
        "        X_batch = X_batch.to(device)\n",
        "        y_batch = y_batch.to(device)\n",
        "        output = model(X_batch)\n",
        "\n",
        "        preds.append(output.cpu())\n",
        "        targets.append(y_batch.cpu())\n",
        "\n",
        "preds = torch.cat(preds).numpy()\n",
        "targets = torch.cat(targets).numpy()\n",
        "\n",
        "preds_unscaled = scaler_y.inverse_transform(preds)\n",
        "targets_unscaled = scaler_y.inverse_transform(targets)\n",
        "\n",
        "mse = ((preds_unscaled - targets_unscaled) ** 2).mean()\n",
        "mape = mean_absolute_percentage_error(targets_unscaled, preds_unscaled)\n",
        "r2 = r2_score(targets_unscaled, preds_unscaled)\n",
        "\n",
        "print(f\"\\nTest MSE: {mse:.4f}\")\n",
        "print(f\"Test MAPE: {mape:.2%}\")\n",
        "print(f\"Test R²: {r2:.4f}\")"
      ],
      "metadata": {
        "colab": {
          "base_uri": "https://localhost:8080/"
        },
        "id": "0ynUr0_vycwl",
        "outputId": "341a7eea-e95e-40a7-a54f-d155b1224b73"
      },
      "execution_count": 19,
      "outputs": [
        {
          "output_type": "stream",
          "name": "stdout",
          "text": [
            "\n",
            "Test MSE: 23317098528768.0000\n",
            "Test MAPE: 14.58%\n",
            "Test R²: 0.9017\n"
          ]
        }
      ]
    }
  ],
  "metadata": {
    "colab": {
      "provenance": [],
      "gpuType": "T4"
    },
    "kernelspec": {
      "display_name": "Python 3",
      "name": "python3"
    },
    "language_info": {
      "name": "python"
    },
    "accelerator": "GPU"
  },
  "nbformat": 4,
  "nbformat_minor": 0
}