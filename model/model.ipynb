{
 "cells": [
  {
   "cell_type": "markdown",
   "metadata": {
    "id": "6wbg1oz_eHwe"
   },
   "source": [
    "# **Подготовка данных**"
   ]
  },
  {
   "cell_type": "code",
   "execution_count": 2,
   "metadata": {
    "colab": {
     "base_uri": "https://localhost:8080/"
    },
    "id": "Gm7s2_CnBMvg",
    "outputId": "706ebc84-b793-4088-f3dc-fb57d8ff0c73"
   },
   "outputs": [
    {
     "name": "stderr",
     "output_type": "stream",
     "text": [
      "C:\\Users\\ponk\\AppData\\Local\\Temp\\ipykernel_22168\\3346367724.py:23: UserWarning: pandas only supports SQLAlchemy connectable (engine/connection) or database string URI or sqlite3 DBAPI2 connection. Other DBAPI2 objects are not tested. Please consider using SQLAlchemy.\n",
      "  dfs[table] = pd.read_sql(query, connection)\n"
     ]
    }
   ],
   "source": [
    "import psycopg2\n",
    "import pandas as pd\n",
    "from google.colab import userdata\n",
    "\n",
    "db_host = userdata.get('db_host')\n",
    "db_port = userdata.get('db_port')\n",
    "db_name = userdata.get('db_name')\n",
    "db_user = userdata.get('db_user')\n",
    "db_password = userdata.get('db_password')\n",
    "\n",
    "connection = psycopg2.connect(\n",
    "    host=db_host,\n",
    "    port=db_port,\n",
    "    database=db_name,\n",
    "    user=db_user,\n",
    "    password=db_password\n",
    ")\n",
    "\n",
    "tables = [\"addresses\", \"developers\", \"offers\", \"offers_details\", \"realty_details\", \"realty_inside\", \"realty_outside\"]\n",
    "\n",
    "dfs = {}\n",
    "for table in tables:\n",
    "    query = f\"SELECT * FROM public.{table};\"\n",
    "    dfs[table] = pd.read_sql(query, connection)\n",
    "\n",
    "connection.close()"
   ]
  },
  {
   "cell_type": "code",
   "execution_count": 3,
   "metadata": {
    "id": "MDHlMGjFCWii"
   },
   "outputs": [],
   "source": [
    "import random\n",
    "random.seed(42)"
   ]
  },
  {
   "cell_type": "code",
   "execution_count": 4,
   "metadata": {
    "id": "m9vuzTPhBMvh"
   },
   "outputs": [],
   "source": [
    "# Addresses\n",
    "dfs['addresses']['lat'] = dfs['addresses']['coordinates'].apply(lambda x: x['lat'] if isinstance(x, dict) else None)\n",
    "dfs['addresses']['lng'] = dfs['addresses']['coordinates'].apply(lambda x: x['lng'] if isinstance(x, dict) else None)\n",
    "dfs['addresses'].drop(columns=['id', 'coordinates', 'address', 'created_at', 'updated_at'], inplace=True)"
   ]
  },
  {
   "cell_type": "code",
   "execution_count": 5,
   "metadata": {
    "id": "qO0tfjRHBMvi"
   },
   "outputs": [],
   "source": [
    "# Developers\n",
    "dfs['developers'].drop(columns=['id', 'created_at', 'updated_at'], inplace=True)"
   ]
  },
  {
   "cell_type": "code",
   "execution_count": 6,
   "metadata": {
    "id": "om2IlJxoBMvi"
   },
   "outputs": [],
   "source": [
    "# offers\n",
    "dfs['offers'] = dfs['offers'].dropna(subset=['photos_count'])\n",
    "dfs['offers']['publication_at'] = pd.to_datetime(pd.to_datetime(dfs['offers']['publication_at'], unit = 's', utc = True).dt.date)\n",
    "dfs['offers'].drop(columns=['id', 'created_at', 'updated_at'], inplace=True)"
   ]
  },
  {
   "cell_type": "code",
   "execution_count": 7,
   "metadata": {
    "id": "uVqBB528BMvi"
   },
   "outputs": [],
   "source": [
    "# offers_details\n",
    "dfs['offers_details'] = dfs['offers_details'][dfs['offers_details']['agent_name'] != \"Росимущество\"].reset_index(drop=True)\n",
    "dfs['offers_details'].drop(columns=['id', 'created_at', 'updated_at'], inplace=True)"
   ]
  },
  {
   "cell_type": "code",
   "execution_count": 8,
   "metadata": {
    "id": "mJ414rH-BMvi"
   },
   "outputs": [],
   "source": [
    "# realty_details\n",
    "dfs['realty_details']['finish_year'] = dfs['realty_details']['finish_date'].apply(lambda x: x.get('year') if isinstance(x, dict) else None)\n",
    "# dfs['realty_details']['finish_quarter'] = dfs['realty_details']['finish_date'].apply(lambda x: x.get('quarter') if isinstance(x, dict) else None)\n",
    "dfs['realty_details']['realty_type'] = dfs['realty_details']['realty_type'].replace('none', None)\n",
    "dfs['realty_details']['heat_type'] = dfs['realty_details']['heat_type'].replace('none', None)\n",
    "dfs['realty_details'].loc[dfs['realty_details']['finish_year'] <= 0, 'finish_year'] = None\n",
    "# dfs['realty_details'].loc[dfs['realty_details']['finish_quarter'] <= 0, 'finish_quarter'] = None\n",
    "\n",
    "dfs['realty_details'].drop(columns=['id', 'finish_date', 'created_at', 'updated_at'], inplace=True)"
   ]
  },
  {
   "cell_type": "code",
   "execution_count": 9,
   "metadata": {
    "id": "vLdw5SDSBMvi"
   },
   "outputs": [],
   "source": [
    "# realty_inside\n",
    "dfs['realty_inside'].drop(columns=['id', 'created_at', 'updated_at'], inplace=True)"
   ]
  },
  {
   "cell_type": "code",
   "execution_count": 10,
   "metadata": {
    "id": "o8WsJEzoBMvj"
   },
   "outputs": [],
   "source": [
    "# realty_outside\n",
    "dfs['realty_outside']['material_type'] = dfs['realty_outside']['material_type'].replace('none', None)\n",
    "dfs['realty_outside']['material_type'] = dfs['realty_outside']['parking_type'].replace('none', None)\n",
    "\n",
    "dfs['realty_outside'].drop(columns=['id', 'created_at', 'updated_at'], inplace=True)"
   ]
  },
  {
   "cell_type": "code",
   "execution_count": 11,
   "metadata": {
    "id": "KPh1JzwWBMvj"
   },
   "outputs": [],
   "source": [
    "main_df = dfs['addresses'].merge(dfs['offers'], on='cian_id', how='inner').merge(dfs['offers_details'], on='cian_id', how='inner')\n",
    "\n",
    "tables_to_left_join = ['developers', 'realty_details', 'realty_inside', 'realty_outside']\n",
    "for table in tables_to_left_join:\n",
    "    main_df = main_df.merge(dfs[table], on='cian_id', how='left')"
   ]
  },
  {
   "cell_type": "code",
   "execution_count": 12,
   "metadata": {
    "colab": {
     "base_uri": "https://localhost:8080/"
    },
    "id": "eURCctAGdRlN",
    "outputId": "2ba97cb0-895f-4980-843d-0600915fc5c8"
   },
   "outputs": [
    {
     "data": {
      "text/plain": [
       "(65762, 60)"
      ]
     },
     "execution_count": 12,
     "metadata": {},
     "output_type": "execute_result"
    }
   ],
   "source": [
    "main_df.shape"
   ]
  },
  {
   "cell_type": "code",
   "execution_count": 13,
   "metadata": {
    "colab": {
     "base_uri": "https://localhost:8080/",
     "height": 961
    },
    "id": "P9UTZPRrBMvj",
    "outputId": "6353e805-2d70-4464-cb15-cea561b4e88e"
   },
   "outputs": [
    {
     "data": {
      "text/plain": [
       "entrances          31107\n",
       "cargo_lifts        30017\n",
       "loggias            28934\n",
       "foundation_year    28535\n",
       "separated_wc       28270\n",
       "review_count       28165\n",
       "total_rate         28165\n",
       "finish_year        28056\n",
       "balconies          27668\n",
       "buildings_count    27473\n",
       "build_year         23121\n",
       "lifts_count        18105\n",
       "ceiling_height     17660\n",
       "combined_wc        16479\n",
       "passenger_lifts    16091\n",
       "living_area        16036\n",
       "kitchen_area       12273\n",
       "rooms_count         9875\n",
       "travel_time          821\n",
       "views_count          446\n",
       "floors_count           0\n",
       "price                  0\n",
       "photos_count           0\n",
       "floor_number           0\n",
       "lat                    0\n",
       "cian_id                0\n",
       "lng                    0\n",
       "total_area             0\n",
       "dtype: int64"
      ]
     },
     "execution_count": 13,
     "metadata": {},
     "output_type": "execute_result"
    }
   ],
   "source": [
    "numeric_df = main_df.select_dtypes(include='number')\n",
    "missing_values = numeric_df.isnull().sum().sort_values(ascending=False)\n",
    "missing_values"
   ]
  },
  {
   "cell_type": "code",
   "execution_count": 14,
   "metadata": {
    "id": "FA1ni6zTDZNQ"
   },
   "outputs": [],
   "source": [
    "import numpy as np\n",
    "main_df = main_df[main_df['photos_count'] >= 0].reset_index(drop=True)\n",
    "\n",
    "main_df['loggias'] = main_df['loggias'].replace({np.nan: 0})\n",
    "main_df['separated_wc'] = main_df['separated_wc'].replace({np.nan: 0})\n",
    "# main_df['finish_quarter'] = main_df['finish_quarter'].replace({np.nan: 0})\n",
    "main_df['balconies'] = main_df['balconies'].replace({np.nan: 0})\n",
    "main_df['combined_wc'] = main_df['combined_wc'].replace({np.nan: 0})\n",
    "main_df['passenger_lifts'] = main_df['passenger_lifts'].replace({np.nan: 0})\n",
    "\n",
    "main_df['total_rate'] = main_df['total_rate'].fillna(main_df['total_rate'].mean())\n",
    "main_df['review_count'] = main_df['review_count'].fillna(main_df['review_count'].mean())\n",
    "main_df['ceiling_height'] = main_df['ceiling_height'].fillna(main_df['ceiling_height'].mean())\n",
    "\n",
    "mean_proportion_ceiling_height = (main_df['ceiling_height'] / main_df['total_area']).mean()\n",
    "main_df.loc[main_df['ceiling_height'] <= 0, 'ceiling_height'] = main_df['total_area'] * mean_proportion_ceiling_height\n",
    "\n",
    "mean_proportion_living_area = (main_df['living_area'] / main_df['total_area']).mean()\n",
    "main_df['living_area'] = main_df['living_area'].fillna(main_df['total_area'] * mean_proportion_living_area)\n",
    "\n",
    "mask = (main_df['total_area'] - main_df['living_area']) != 0\n",
    "mean_proportion_kitchen_area = (main_df.loc[mask, 'kitchen_area'] / (main_df.loc[mask, 'total_area'] - main_df.loc[mask, 'living_area'])).mean()\n",
    "main_df['kitchen_area'] = main_df['kitchen_area'].fillna((main_df['total_area'] - main_df['living_area']).replace(0, np.nan) * mean_proportion_kitchen_area)\n",
    "\n",
    "\n",
    "mean_proportion_rooms_count = (main_df['rooms_count'] / main_df['living_area']).mean()\n",
    "main_df['rooms_count'] = main_df['rooms_count'].fillna(main_df['living_area']*mean_proportion_rooms_count).astype(int)\n",
    "main_df['build_year'] = main_df.apply(lambda row: row['finish_year'] if pd.isna(row['build_year']) else row['build_year'], axis=1)\n",
    "\n",
    "main_df = main_df.dropna(subset=['travel_time', 'views_count', 'kitchen_area', 'build_year']).copy()\n",
    "main_df.drop(columns=['entrances', 'cargo_lifts', 'foundation_year', 'buildings_count', 'lifts_count', 'finish_year'], inplace=True)\n"
   ]
  },
  {
   "cell_type": "code",
   "execution_count": 15,
   "metadata": {
    "colab": {
     "base_uri": "https://localhost:8080/"
    },
    "id": "zZ_AYDkIdVOI",
    "outputId": "3afbf9d9-6a39-4475-a1f0-650e4412e315"
   },
   "outputs": [
    {
     "data": {
      "text/plain": [
       "(63332, 54)"
      ]
     },
     "execution_count": 15,
     "metadata": {},
     "output_type": "execute_result"
    }
   ],
   "source": [
    "main_df.shape"
   ]
  },
  {
   "cell_type": "code",
   "execution_count": 16,
   "metadata": {
    "colab": {
     "base_uri": "https://localhost:8080/",
     "height": 773
    },
    "id": "iBnW9620JcfC",
    "outputId": "a8a824ed-fd63-4edd-a99d-c813190c0fc4"
   },
   "outputs": [
    {
     "data": {
      "text/plain": [
       "cian_id            0\n",
       "travel_time        0\n",
       "lat                0\n",
       "lng                0\n",
       "price              0\n",
       "views_count        0\n",
       "photos_count       0\n",
       "floor_number       0\n",
       "floors_count       0\n",
       "review_count       0\n",
       "total_rate         0\n",
       "total_area         0\n",
       "living_area        0\n",
       "kitchen_area       0\n",
       "ceiling_height     0\n",
       "balconies          0\n",
       "loggias            0\n",
       "rooms_count        0\n",
       "separated_wc       0\n",
       "combined_wc        0\n",
       "build_year         0\n",
       "passenger_lifts    0\n",
       "dtype: int64"
      ]
     },
     "execution_count": 16,
     "metadata": {},
     "output_type": "execute_result"
    }
   ],
   "source": [
    "numeric_df = main_df.select_dtypes(include='number')\n",
    "missing_values = numeric_df.isnull().sum().sort_values(ascending=False)\n",
    "missing_values"
   ]
  },
  {
   "cell_type": "code",
   "execution_count": 17,
   "metadata": {
    "colab": {
     "base_uri": "https://localhost:8080/",
     "height": 993
    },
    "id": "H-rcrO8QRrjT",
    "outputId": "1de56b38-904a-4b82-b246-52e110910faa"
   },
   "outputs": [
    {
     "data": {
      "text/plain": [
       "is_penthouse           55538\n",
       "garbage_chute          45747\n",
       "project_type           34449\n",
       "heat_type              30678\n",
       "is_reliable            26265\n",
       "name                   25761\n",
       "is_emergency           24552\n",
       "gas_type               24552\n",
       "renovation_programm    24552\n",
       "repair_type            22959\n",
       "parking_type           22940\n",
       "material_type          22940\n",
       "windows_view           19674\n",
       "street                 14466\n",
       "agent_name             12762\n",
       "is_apartment           11270\n",
       "is_mortgage_allowed    10518\n",
       "district                9559\n",
       "house                   5790\n",
       "sale_type                808\n",
       "price_changes            165\n",
       "description                0\n",
       "flat_type                  0\n",
       "deal_type                  0\n",
       "travel_type                0\n",
       "category                   0\n",
       "metro                      0\n",
       "county                     0\n",
       "realty_type                0\n",
       "dtype: int64"
      ]
     },
     "execution_count": 17,
     "metadata": {},
     "output_type": "execute_result"
    }
   ],
   "source": [
    "category_df = main_df.select_dtypes(include=['object'])\n",
    "missing_values2 = category_df.isnull().sum().sort_values(ascending=False)\n",
    "missing_values2"
   ]
  },
  {
   "cell_type": "code",
   "execution_count": 18,
   "metadata": {
    "id": "NdfHXxMQXeOx"
   },
   "outputs": [],
   "source": [
    "main_df['is_penthouse'] = main_df['is_penthouse'].astype(bool).fillna(False)\n",
    "main_df['garbage_chute'] = main_df['garbage_chute'].astype(bool).fillna(False)\n",
    "main_df['is_reliable'] = main_df['is_reliable'].astype(bool).fillna(False)\n",
    "main_df['is_emergency'] = main_df['is_emergency'].astype(bool).fillna(False)\n",
    "main_df['is_apartment'] = main_df['is_apartment'].astype(bool).fillna(False)\n",
    "main_df['is_mortgage_allowed'] = main_df['is_mortgage_allowed'].astype(bool).fillna(False)\n",
    "main_df['renovation_programm'] = main_df['renovation_programm'].astype(bool).fillna(False)\n",
    "\n",
    "main_df['photos_count'] = main_df['photos_count'].astype(int)\n",
    "main_df['price'] = main_df['price'].astype(int)\n",
    "main_df['travel_time'] = main_df['travel_time'].astype(int)\n",
    "main_df['views_count'] = main_df['views_count'].astype(int)\n",
    "main_df['balconies'] = main_df['balconies'].astype(int)\n",
    "main_df['loggias'] = main_df['loggias'].astype(int)\n",
    "main_df['separated_wc'] = main_df['separated_wc'].astype(int)\n",
    "main_df['combined_wc'] = main_df['combined_wc'].astype(int)\n",
    "main_df['passenger_lifts'] = main_df['passenger_lifts'].astype(int)\n",
    "main_df['review_count'] = main_df['review_count'].astype(int)\n",
    "main_df['build_year'] = main_df['build_year'].astype(int)"
   ]
  },
  {
   "cell_type": "code",
   "execution_count": 19,
   "metadata": {
    "id": "3dPcfmIqbcra"
   },
   "outputs": [],
   "source": [
    "main_df['project_type'] = main_df['project_type'].replace({np.nan: 'Индивидуальный проект'})"
   ]
  },
  {
   "cell_type": "code",
   "execution_count": 20,
   "metadata": {
    "id": "oj8CpjN3Qt5Q"
   },
   "outputs": [],
   "source": [
    "import numpy as np\n",
    "\n",
    "# Центр Москвы\n",
    "center_lat = 55.753600\n",
    "center_lng = 37.621184\n",
    "\n",
    "# Радиус Земли в километрах\n",
    "earth_radius_km = 6371\n",
    "\n",
    "def haversine(lat1, lng1, lat2, lng2):\n",
    "    # Преобразуем градусы в радианы\n",
    "    lat1, lng1, lat2, lng2 = map(np.radians, [lat1, lng1, lat2, lng2])\n",
    "\n",
    "    dlat = lat2 - lat1\n",
    "    dlng = lng2 - lng1\n",
    "\n",
    "    # Формула Хаверсина\n",
    "    a = np.sin(dlat / 2)**2 + np.cos(lat1) * np.cos(lat2) * np.sin(dlng / 2)**2\n",
    "    c = 2 * np.arctan2(np.sqrt(a), np.sqrt(1 - a))\n",
    "    return earth_radius_km * c\n",
    "\n",
    "# Добавление нового столбца в DataFrame\n",
    "main_df['distance_from_center'] = haversine(main_df['lat'], main_df['lng'], center_lat, center_lng)\n"
   ]
  },
  {
   "cell_type": "code",
   "execution_count": 21,
   "metadata": {
    "colab": {
     "base_uri": "https://localhost:8080/",
     "height": 423
    },
    "id": "KMUA9w1aQ4d7",
    "outputId": "3d936b8c-bcda-48b6-f1c3-fe511c80c4c6"
   },
   "outputs": [
    {
     "data": {
      "text/html": [
       "<div>\n",
       "<style scoped>\n",
       "    .dataframe tbody tr th:only-of-type {\n",
       "        vertical-align: middle;\n",
       "    }\n",
       "\n",
       "    .dataframe tbody tr th {\n",
       "        vertical-align: top;\n",
       "    }\n",
       "\n",
       "    .dataframe thead th {\n",
       "        text-align: right;\n",
       "    }\n",
       "</style>\n",
       "<table border=\"1\" class=\"dataframe\">\n",
       "  <thead>\n",
       "    <tr style=\"text-align: right;\">\n",
       "      <th></th>\n",
       "      <th>lat</th>\n",
       "      <th>lng</th>\n",
       "      <th>distance_from_center</th>\n",
       "    </tr>\n",
       "  </thead>\n",
       "  <tbody>\n",
       "    <tr>\n",
       "      <th>0</th>\n",
       "      <td>55.979979</td>\n",
       "      <td>37.188178</td>\n",
       "      <td>36.926101</td>\n",
       "    </tr>\n",
       "    <tr>\n",
       "      <th>1</th>\n",
       "      <td>55.712710</td>\n",
       "      <td>37.644477</td>\n",
       "      <td>4.774909</td>\n",
       "    </tr>\n",
       "    <tr>\n",
       "      <th>2</th>\n",
       "      <td>55.893965</td>\n",
       "      <td>37.380651</td>\n",
       "      <td>21.664143</td>\n",
       "    </tr>\n",
       "    <tr>\n",
       "      <th>3</th>\n",
       "      <td>55.868526</td>\n",
       "      <td>37.681218</td>\n",
       "      <td>13.318349</td>\n",
       "    </tr>\n",
       "    <tr>\n",
       "      <th>4</th>\n",
       "      <td>55.693186</td>\n",
       "      <td>37.476913</td>\n",
       "      <td>11.258577</td>\n",
       "    </tr>\n",
       "    <tr>\n",
       "      <th>...</th>\n",
       "      <td>...</td>\n",
       "      <td>...</td>\n",
       "      <td>...</td>\n",
       "    </tr>\n",
       "    <tr>\n",
       "      <th>65757</th>\n",
       "      <td>55.601533</td>\n",
       "      <td>37.742555</td>\n",
       "      <td>18.542465</td>\n",
       "    </tr>\n",
       "    <tr>\n",
       "      <th>65758</th>\n",
       "      <td>55.660856</td>\n",
       "      <td>37.763701</td>\n",
       "      <td>13.640801</td>\n",
       "    </tr>\n",
       "    <tr>\n",
       "      <th>65759</th>\n",
       "      <td>55.858978</td>\n",
       "      <td>37.475630</td>\n",
       "      <td>14.833499</td>\n",
       "    </tr>\n",
       "    <tr>\n",
       "      <th>65760</th>\n",
       "      <td>55.792316</td>\n",
       "      <td>37.694001</td>\n",
       "      <td>6.266953</td>\n",
       "    </tr>\n",
       "    <tr>\n",
       "      <th>65761</th>\n",
       "      <td>55.753232</td>\n",
       "      <td>37.696532</td>\n",
       "      <td>4.715144</td>\n",
       "    </tr>\n",
       "  </tbody>\n",
       "</table>\n",
       "<p>63332 rows × 3 columns</p>\n",
       "</div>"
      ],
      "text/plain": [
       "             lat        lng  distance_from_center\n",
       "0      55.979979  37.188178             36.926101\n",
       "1      55.712710  37.644477              4.774909\n",
       "2      55.893965  37.380651             21.664143\n",
       "3      55.868526  37.681218             13.318349\n",
       "4      55.693186  37.476913             11.258577\n",
       "...          ...        ...                   ...\n",
       "65757  55.601533  37.742555             18.542465\n",
       "65758  55.660856  37.763701             13.640801\n",
       "65759  55.858978  37.475630             14.833499\n",
       "65760  55.792316  37.694001              6.266953\n",
       "65761  55.753232  37.696532              4.715144\n",
       "\n",
       "[63332 rows x 3 columns]"
      ]
     },
     "execution_count": 21,
     "metadata": {},
     "output_type": "execute_result"
    }
   ],
   "source": [
    "main_df[['lat', 'lng', 'distance_from_center']]"
   ]
  },
  {
   "cell_type": "code",
   "execution_count": 22,
   "metadata": {
    "id": "x0v-V3nDajGC"
   },
   "outputs": [],
   "source": [
    "main_df = main_df[main_df['is_duplicate'] != True]\n",
    "main_df = main_df.drop(columns=['is_reliable','heat_type', 'name', 'gas_type', 'parking_type', 'windows_view','street', 'agent_name', 'house', 'is_duplicate', 'cian_id', 'lat', 'lng', 'price_changes', 'description'], axis=1)\n",
    "main_df = main_df.dropna(subset=['district', 'county', 'sale_type'])"
   ]
  },
  {
   "cell_type": "code",
   "execution_count": 23,
   "metadata": {
    "id": "E1voWAcSbNpI"
   },
   "outputs": [],
   "source": [
    "mask = main_df['project_type'] != 'Индивидуальный проект'\n",
    "\n",
    "main_df.loc[mask, 'material_type'] = main_df.loc[mask].groupby('project_type')['material_type'].transform(lambda x: x.ffill().bfill())"
   ]
  },
  {
   "cell_type": "code",
   "execution_count": 24,
   "metadata": {
    "id": "vGy_2NU5gfae"
   },
   "outputs": [],
   "source": [
    "main_df.loc[:, 'material_type'] = main_df['material_type'].fillna(main_df['material_type'].mode()[0])"
   ]
  },
  {
   "cell_type": "code",
   "execution_count": 25,
   "metadata": {
    "colab": {
     "base_uri": "https://localhost:8080/"
    },
    "id": "H5emyS1ceqoU",
    "outputId": "3755871b-e806-4a36-8f38-17c91b4b4d43"
   },
   "outputs": [
    {
     "data": {
      "text/plain": [
       "array(['ground', 'underground', 'multilevel', 'open', 'roof'],\n",
       "      dtype=object)"
      ]
     },
     "execution_count": 25,
     "metadata": {},
     "output_type": "execute_result"
    }
   ],
   "source": [
    "main_df['material_type'].unique()"
   ]
  },
  {
   "cell_type": "code",
   "execution_count": 26,
   "metadata": {
    "id": "XYfijQ-xgAAu"
   },
   "outputs": [],
   "source": [
    "main_df.loc[:, 'repair_type'] = main_df['repair_type'].fillna(main_df['repair_type'].mode()[0])"
   ]
  },
  {
   "cell_type": "code",
   "execution_count": 27,
   "metadata": {
    "colab": {
     "base_uri": "https://localhost:8080/"
    },
    "id": "9Ou_nJ7Fqc_m",
    "outputId": "e6b6f89e-e2e5-45be-adb0-c3e268d13195"
   },
   "outputs": [
    {
     "data": {
      "text/plain": [
       "Index(['county', 'district', 'metro', 'travel_type', 'travel_time', 'price',\n",
       "       'category', 'views_count', 'photos_count', 'floor_number',\n",
       "       'floors_count', 'publication_at', 'deal_type', 'flat_type', 'sale_type',\n",
       "       'review_count', 'total_rate', 'realty_type', 'project_type',\n",
       "       'is_apartment', 'is_penthouse', 'is_mortgage_allowed', 'is_premium',\n",
       "       'is_emergency', 'renovation_programm', 'repair_type', 'total_area',\n",
       "       'living_area', 'kitchen_area', 'ceiling_height', 'balconies', 'loggias',\n",
       "       'rooms_count', 'separated_wc', 'combined_wc', 'build_year',\n",
       "       'material_type', 'garbage_chute', 'passenger_lifts',\n",
       "       'distance_from_center'],\n",
       "      dtype='object')"
      ]
     },
     "execution_count": 27,
     "metadata": {},
     "output_type": "execute_result"
    }
   ],
   "source": [
    "main_df.columns"
   ]
  },
  {
   "cell_type": "code",
   "execution_count": 28,
   "metadata": {
    "id": "dEfpK8H1oCCG"
   },
   "outputs": [],
   "source": [
    "# Extract features from the 'publication_at' datetime column\n",
    "main_df['publication_at'] = pd.to_datetime(main_df['publication_at'])\n",
    "main_df['year'] = main_df['publication_at'].dt.year\n",
    "main_df['month'] = main_df['publication_at'].dt.month\n",
    "main_df['day_of_week'] = main_df['publication_at'].dt.dayofweek\n",
    "main_df['day_of_month'] = main_df['publication_at'].dt.day\n",
    "\n",
    "main_df = main_df.drop(columns=['publication_at'])"
   ]
  },
  {
   "cell_type": "code",
   "execution_count": 29,
   "metadata": {
    "colab": {
     "base_uri": "https://localhost:8080/",
     "height": 530
    },
    "id": "biO33Wyrd3aX",
    "outputId": "e2772b4d-3dc2-4776-ae08-21f93f72b3e7"
   },
   "outputs": [
    {
     "name": "stderr",
     "output_type": "stream",
     "text": [
      "C:\\Users\\ponk\\AppData\\Local\\Temp\\ipykernel_22168\\3802399838.py:1: FutureWarning: DataFrame.applymap has been deprecated. Use DataFrame.map instead.\n",
      "  main_df = main_df.applymap(lambda x: str(x) if isinstance(x, list) else x)\n"
     ]
    },
    {
     "data": {
      "text/html": [
       "<div>\n",
       "<style scoped>\n",
       "    .dataframe tbody tr th:only-of-type {\n",
       "        vertical-align: middle;\n",
       "    }\n",
       "\n",
       "    .dataframe tbody tr th {\n",
       "        vertical-align: top;\n",
       "    }\n",
       "\n",
       "    .dataframe thead th {\n",
       "        text-align: right;\n",
       "    }\n",
       "</style>\n",
       "<table border=\"1\" class=\"dataframe\">\n",
       "  <thead>\n",
       "    <tr style=\"text-align: right;\">\n",
       "      <th></th>\n",
       "      <th>county</th>\n",
       "      <th>district</th>\n",
       "      <th>metro</th>\n",
       "      <th>travel_type</th>\n",
       "      <th>travel_time</th>\n",
       "      <th>price</th>\n",
       "      <th>category</th>\n",
       "      <th>views_count</th>\n",
       "      <th>photos_count</th>\n",
       "      <th>floor_number</th>\n",
       "      <th>...</th>\n",
       "      <th>combined_wc</th>\n",
       "      <th>build_year</th>\n",
       "      <th>material_type</th>\n",
       "      <th>garbage_chute</th>\n",
       "      <th>passenger_lifts</th>\n",
       "      <th>distance_from_center</th>\n",
       "      <th>year</th>\n",
       "      <th>month</th>\n",
       "      <th>day_of_week</th>\n",
       "      <th>day_of_month</th>\n",
       "    </tr>\n",
       "  </thead>\n",
       "  <tbody>\n",
       "    <tr>\n",
       "      <th>0</th>\n",
       "      <td>ЗелАО</td>\n",
       "      <td>Старое Крюково</td>\n",
       "      <td>Зеленоград — Крюково</td>\n",
       "      <td>walk</td>\n",
       "      <td>13</td>\n",
       "      <td>14000000</td>\n",
       "      <td>flatSale</td>\n",
       "      <td>228</td>\n",
       "      <td>21</td>\n",
       "      <td>9</td>\n",
       "      <td>...</td>\n",
       "      <td>0</td>\n",
       "      <td>2022</td>\n",
       "      <td>ground</td>\n",
       "      <td>False</td>\n",
       "      <td>1</td>\n",
       "      <td>36.926101</td>\n",
       "      <td>2024</td>\n",
       "      <td>11</td>\n",
       "      <td>4</td>\n",
       "      <td>1</td>\n",
       "    </tr>\n",
       "    <tr>\n",
       "      <th>1</th>\n",
       "      <td>ЮАО</td>\n",
       "      <td>Даниловский</td>\n",
       "      <td>Тульская</td>\n",
       "      <td>walk</td>\n",
       "      <td>25</td>\n",
       "      <td>70000000</td>\n",
       "      <td>flatSale</td>\n",
       "      <td>1183</td>\n",
       "      <td>5</td>\n",
       "      <td>8</td>\n",
       "      <td>...</td>\n",
       "      <td>2</td>\n",
       "      <td>2016</td>\n",
       "      <td>underground</td>\n",
       "      <td>False</td>\n",
       "      <td>3</td>\n",
       "      <td>4.774909</td>\n",
       "      <td>2016</td>\n",
       "      <td>9</td>\n",
       "      <td>0</td>\n",
       "      <td>12</td>\n",
       "    </tr>\n",
       "    <tr>\n",
       "      <th>2</th>\n",
       "      <td>СЗАО</td>\n",
       "      <td>Куркино</td>\n",
       "      <td>Сходненская</td>\n",
       "      <td>transport</td>\n",
       "      <td>12</td>\n",
       "      <td>16900000</td>\n",
       "      <td>flatSale</td>\n",
       "      <td>3585</td>\n",
       "      <td>16</td>\n",
       "      <td>1</td>\n",
       "      <td>...</td>\n",
       "      <td>0</td>\n",
       "      <td>1920</td>\n",
       "      <td>ground</td>\n",
       "      <td>False</td>\n",
       "      <td>0</td>\n",
       "      <td>21.664143</td>\n",
       "      <td>2016</td>\n",
       "      <td>4</td>\n",
       "      <td>0</td>\n",
       "      <td>25</td>\n",
       "    </tr>\n",
       "    <tr>\n",
       "      <th>3</th>\n",
       "      <td>СВАО</td>\n",
       "      <td>Лосиноостровский</td>\n",
       "      <td>Бабушкинская</td>\n",
       "      <td>walk</td>\n",
       "      <td>14</td>\n",
       "      <td>66000000</td>\n",
       "      <td>flatSale</td>\n",
       "      <td>8408</td>\n",
       "      <td>36</td>\n",
       "      <td>6</td>\n",
       "      <td>...</td>\n",
       "      <td>2</td>\n",
       "      <td>2008</td>\n",
       "      <td>underground</td>\n",
       "      <td>True</td>\n",
       "      <td>1</td>\n",
       "      <td>13.318349</td>\n",
       "      <td>2016</td>\n",
       "      <td>11</td>\n",
       "      <td>0</td>\n",
       "      <td>7</td>\n",
       "    </tr>\n",
       "    <tr>\n",
       "      <th>4</th>\n",
       "      <td>ЗАО</td>\n",
       "      <td>Раменки</td>\n",
       "      <td>Мичуринский проспект</td>\n",
       "      <td>walk</td>\n",
       "      <td>12</td>\n",
       "      <td>58507560</td>\n",
       "      <td>newBuildingFlatSale</td>\n",
       "      <td>165</td>\n",
       "      <td>49</td>\n",
       "      <td>24</td>\n",
       "      <td>...</td>\n",
       "      <td>2</td>\n",
       "      <td>2025</td>\n",
       "      <td>underground</td>\n",
       "      <td>False</td>\n",
       "      <td>1</td>\n",
       "      <td>11.258577</td>\n",
       "      <td>2024</td>\n",
       "      <td>8</td>\n",
       "      <td>4</td>\n",
       "      <td>30</td>\n",
       "    </tr>\n",
       "    <tr>\n",
       "      <th>...</th>\n",
       "      <td>...</td>\n",
       "      <td>...</td>\n",
       "      <td>...</td>\n",
       "      <td>...</td>\n",
       "      <td>...</td>\n",
       "      <td>...</td>\n",
       "      <td>...</td>\n",
       "      <td>...</td>\n",
       "      <td>...</td>\n",
       "      <td>...</td>\n",
       "      <td>...</td>\n",
       "      <td>...</td>\n",
       "      <td>...</td>\n",
       "      <td>...</td>\n",
       "      <td>...</td>\n",
       "      <td>...</td>\n",
       "      <td>...</td>\n",
       "      <td>...</td>\n",
       "      <td>...</td>\n",
       "      <td>...</td>\n",
       "      <td>...</td>\n",
       "    </tr>\n",
       "    <tr>\n",
       "      <th>65757</th>\n",
       "      <td>ЮАО</td>\n",
       "      <td>Орехово-Борисово Южное</td>\n",
       "      <td>Зябликово</td>\n",
       "      <td>walk</td>\n",
       "      <td>16</td>\n",
       "      <td>3000000</td>\n",
       "      <td>flatShareSale</td>\n",
       "      <td>283</td>\n",
       "      <td>9</td>\n",
       "      <td>1</td>\n",
       "      <td>...</td>\n",
       "      <td>0</td>\n",
       "      <td>1986</td>\n",
       "      <td>ground</td>\n",
       "      <td>True</td>\n",
       "      <td>2</td>\n",
       "      <td>18.542465</td>\n",
       "      <td>2024</td>\n",
       "      <td>12</td>\n",
       "      <td>1</td>\n",
       "      <td>3</td>\n",
       "    </tr>\n",
       "    <tr>\n",
       "      <th>65758</th>\n",
       "      <td>ЮВАО</td>\n",
       "      <td>Марьино</td>\n",
       "      <td>Братиславская</td>\n",
       "      <td>walk</td>\n",
       "      <td>10</td>\n",
       "      <td>3500000</td>\n",
       "      <td>flatShareSale</td>\n",
       "      <td>413</td>\n",
       "      <td>8</td>\n",
       "      <td>14</td>\n",
       "      <td>...</td>\n",
       "      <td>0</td>\n",
       "      <td>1999</td>\n",
       "      <td>ground</td>\n",
       "      <td>True</td>\n",
       "      <td>1</td>\n",
       "      <td>13.640801</td>\n",
       "      <td>2024</td>\n",
       "      <td>12</td>\n",
       "      <td>1</td>\n",
       "      <td>3</td>\n",
       "    </tr>\n",
       "    <tr>\n",
       "      <th>65759</th>\n",
       "      <td>САО</td>\n",
       "      <td>Левобережный</td>\n",
       "      <td>Речной вокзал</td>\n",
       "      <td>walk</td>\n",
       "      <td>7</td>\n",
       "      <td>14786265</td>\n",
       "      <td>newBuildingFlatSale</td>\n",
       "      <td>14</td>\n",
       "      <td>12</td>\n",
       "      <td>21</td>\n",
       "      <td>...</td>\n",
       "      <td>0</td>\n",
       "      <td>2025</td>\n",
       "      <td>ground</td>\n",
       "      <td>False</td>\n",
       "      <td>0</td>\n",
       "      <td>14.833499</td>\n",
       "      <td>2024</td>\n",
       "      <td>12</td>\n",
       "      <td>1</td>\n",
       "      <td>3</td>\n",
       "    </tr>\n",
       "    <tr>\n",
       "      <th>65760</th>\n",
       "      <td>ВАО</td>\n",
       "      <td>Сокольники</td>\n",
       "      <td>Сокольники</td>\n",
       "      <td>walk</td>\n",
       "      <td>14</td>\n",
       "      <td>15500000</td>\n",
       "      <td>flatSale</td>\n",
       "      <td>26</td>\n",
       "      <td>12</td>\n",
       "      <td>2</td>\n",
       "      <td>...</td>\n",
       "      <td>1</td>\n",
       "      <td>2013</td>\n",
       "      <td>ground</td>\n",
       "      <td>False</td>\n",
       "      <td>2</td>\n",
       "      <td>6.266953</td>\n",
       "      <td>2024</td>\n",
       "      <td>12</td>\n",
       "      <td>0</td>\n",
       "      <td>9</td>\n",
       "    </tr>\n",
       "    <tr>\n",
       "      <th>65761</th>\n",
       "      <td>ЮВАО</td>\n",
       "      <td>Лефортово</td>\n",
       "      <td>Римская</td>\n",
       "      <td>walk</td>\n",
       "      <td>26</td>\n",
       "      <td>17117500</td>\n",
       "      <td>newBuildingFlatSale</td>\n",
       "      <td>73</td>\n",
       "      <td>32</td>\n",
       "      <td>11</td>\n",
       "      <td>...</td>\n",
       "      <td>1</td>\n",
       "      <td>2025</td>\n",
       "      <td>underground</td>\n",
       "      <td>False</td>\n",
       "      <td>1</td>\n",
       "      <td>4.715144</td>\n",
       "      <td>2024</td>\n",
       "      <td>12</td>\n",
       "      <td>4</td>\n",
       "      <td>6</td>\n",
       "    </tr>\n",
       "  </tbody>\n",
       "</table>\n",
       "<p>52860 rows × 41 columns</p>\n",
       "</div>"
      ],
      "text/plain": [
       "      county                district                 metro travel_type  \\\n",
       "0      ЗелАО          Старое Крюково  Зеленоград — Крюково        walk   \n",
       "1        ЮАО             Даниловский              Тульская        walk   \n",
       "2       СЗАО                 Куркино           Сходненская   transport   \n",
       "3       СВАО        Лосиноостровский          Бабушкинская        walk   \n",
       "4        ЗАО                 Раменки  Мичуринский проспект        walk   \n",
       "...      ...                     ...                   ...         ...   \n",
       "65757    ЮАО  Орехово-Борисово Южное             Зябликово        walk   \n",
       "65758   ЮВАО                 Марьино         Братиславская        walk   \n",
       "65759    САО            Левобережный         Речной вокзал        walk   \n",
       "65760    ВАО              Сокольники            Сокольники        walk   \n",
       "65761   ЮВАО               Лефортово               Римская        walk   \n",
       "\n",
       "       travel_time     price             category  views_count  photos_count  \\\n",
       "0               13  14000000             flatSale          228            21   \n",
       "1               25  70000000             flatSale         1183             5   \n",
       "2               12  16900000             flatSale         3585            16   \n",
       "3               14  66000000             flatSale         8408            36   \n",
       "4               12  58507560  newBuildingFlatSale          165            49   \n",
       "...            ...       ...                  ...          ...           ...   \n",
       "65757           16   3000000        flatShareSale          283             9   \n",
       "65758           10   3500000        flatShareSale          413             8   \n",
       "65759            7  14786265  newBuildingFlatSale           14            12   \n",
       "65760           14  15500000             flatSale           26            12   \n",
       "65761           26  17117500  newBuildingFlatSale           73            32   \n",
       "\n",
       "       floor_number  ...  combined_wc build_year material_type  garbage_chute  \\\n",
       "0                 9  ...            0       2022        ground          False   \n",
       "1                 8  ...            2       2016   underground          False   \n",
       "2                 1  ...            0       1920        ground          False   \n",
       "3                 6  ...            2       2008   underground           True   \n",
       "4                24  ...            2       2025   underground          False   \n",
       "...             ...  ...          ...        ...           ...            ...   \n",
       "65757             1  ...            0       1986        ground           True   \n",
       "65758            14  ...            0       1999        ground           True   \n",
       "65759            21  ...            0       2025        ground          False   \n",
       "65760             2  ...            1       2013        ground          False   \n",
       "65761            11  ...            1       2025   underground          False   \n",
       "\n",
       "       passenger_lifts distance_from_center  year  month  day_of_week  \\\n",
       "0                    1            36.926101  2024     11            4   \n",
       "1                    3             4.774909  2016      9            0   \n",
       "2                    0            21.664143  2016      4            0   \n",
       "3                    1            13.318349  2016     11            0   \n",
       "4                    1            11.258577  2024      8            4   \n",
       "...                ...                  ...   ...    ...          ...   \n",
       "65757                2            18.542465  2024     12            1   \n",
       "65758                1            13.640801  2024     12            1   \n",
       "65759                0            14.833499  2024     12            1   \n",
       "65760                2             6.266953  2024     12            0   \n",
       "65761                1             4.715144  2024     12            4   \n",
       "\n",
       "       day_of_month  \n",
       "0                 1  \n",
       "1                12  \n",
       "2                25  \n",
       "3                 7  \n",
       "4                30  \n",
       "...             ...  \n",
       "65757             3  \n",
       "65758             3  \n",
       "65759             3  \n",
       "65760             9  \n",
       "65761             6  \n",
       "\n",
       "[52860 rows x 41 columns]"
      ]
     },
     "execution_count": 29,
     "metadata": {},
     "output_type": "execute_result"
    }
   ],
   "source": [
    "main_df = main_df.applymap(lambda x: str(x) if isinstance(x, list) else x)\n",
    "\n",
    "# Удаляем столбцы с единственным значением\n",
    "main_df = main_df.loc[:, main_df.nunique() > 1]\n",
    "main_df"
   ]
  },
  {
   "cell_type": "code",
   "execution_count": 30,
   "metadata": {
    "colab": {
     "base_uri": "https://localhost:8080/",
     "height": 495
    },
    "id": "7w0ORLg6qotT",
    "outputId": "3f9e2274-707e-41ba-a746-523bac4710cb"
   },
   "outputs": [
    {
     "data": {
      "text/html": [
       "<div>\n",
       "<style scoped>\n",
       "    .dataframe tbody tr th:only-of-type {\n",
       "        vertical-align: middle;\n",
       "    }\n",
       "\n",
       "    .dataframe tbody tr th {\n",
       "        vertical-align: top;\n",
       "    }\n",
       "\n",
       "    .dataframe thead th {\n",
       "        text-align: right;\n",
       "    }\n",
       "</style>\n",
       "<table border=\"1\" class=\"dataframe\">\n",
       "  <thead>\n",
       "    <tr style=\"text-align: right;\">\n",
       "      <th></th>\n",
       "      <th>county</th>\n",
       "      <th>district</th>\n",
       "      <th>metro</th>\n",
       "      <th>travel_type</th>\n",
       "      <th>travel_time</th>\n",
       "      <th>price</th>\n",
       "      <th>category</th>\n",
       "      <th>views_count</th>\n",
       "      <th>photos_count</th>\n",
       "      <th>floor_number</th>\n",
       "      <th>...</th>\n",
       "      <th>combined_wc</th>\n",
       "      <th>build_year</th>\n",
       "      <th>material_type</th>\n",
       "      <th>garbage_chute</th>\n",
       "      <th>passenger_lifts</th>\n",
       "      <th>distance_from_center</th>\n",
       "      <th>year</th>\n",
       "      <th>month</th>\n",
       "      <th>day_of_week</th>\n",
       "      <th>day_of_month</th>\n",
       "    </tr>\n",
       "  </thead>\n",
       "  <tbody>\n",
       "    <tr>\n",
       "      <th>0</th>\n",
       "      <td>ЗелАО</td>\n",
       "      <td>Старое Крюково</td>\n",
       "      <td>Зеленоград — Крюково</td>\n",
       "      <td>walk</td>\n",
       "      <td>13</td>\n",
       "      <td>14000000</td>\n",
       "      <td>flatSale</td>\n",
       "      <td>228</td>\n",
       "      <td>21</td>\n",
       "      <td>9</td>\n",
       "      <td>...</td>\n",
       "      <td>0</td>\n",
       "      <td>2022</td>\n",
       "      <td>ground</td>\n",
       "      <td>False</td>\n",
       "      <td>1</td>\n",
       "      <td>36.926101</td>\n",
       "      <td>2024</td>\n",
       "      <td>11</td>\n",
       "      <td>4</td>\n",
       "      <td>1</td>\n",
       "    </tr>\n",
       "    <tr>\n",
       "      <th>1</th>\n",
       "      <td>ЮАО</td>\n",
       "      <td>Даниловский</td>\n",
       "      <td>Тульская</td>\n",
       "      <td>walk</td>\n",
       "      <td>25</td>\n",
       "      <td>70000000</td>\n",
       "      <td>flatSale</td>\n",
       "      <td>1183</td>\n",
       "      <td>5</td>\n",
       "      <td>8</td>\n",
       "      <td>...</td>\n",
       "      <td>2</td>\n",
       "      <td>2016</td>\n",
       "      <td>underground</td>\n",
       "      <td>False</td>\n",
       "      <td>3</td>\n",
       "      <td>4.774909</td>\n",
       "      <td>2016</td>\n",
       "      <td>9</td>\n",
       "      <td>0</td>\n",
       "      <td>12</td>\n",
       "    </tr>\n",
       "    <tr>\n",
       "      <th>2</th>\n",
       "      <td>СЗАО</td>\n",
       "      <td>Куркино</td>\n",
       "      <td>Сходненская</td>\n",
       "      <td>transport</td>\n",
       "      <td>12</td>\n",
       "      <td>16900000</td>\n",
       "      <td>flatSale</td>\n",
       "      <td>3585</td>\n",
       "      <td>16</td>\n",
       "      <td>1</td>\n",
       "      <td>...</td>\n",
       "      <td>0</td>\n",
       "      <td>1920</td>\n",
       "      <td>ground</td>\n",
       "      <td>False</td>\n",
       "      <td>0</td>\n",
       "      <td>21.664143</td>\n",
       "      <td>2016</td>\n",
       "      <td>4</td>\n",
       "      <td>0</td>\n",
       "      <td>25</td>\n",
       "    </tr>\n",
       "    <tr>\n",
       "      <th>3</th>\n",
       "      <td>СВАО</td>\n",
       "      <td>Лосиноостровский</td>\n",
       "      <td>Бабушкинская</td>\n",
       "      <td>walk</td>\n",
       "      <td>14</td>\n",
       "      <td>66000000</td>\n",
       "      <td>flatSale</td>\n",
       "      <td>8408</td>\n",
       "      <td>36</td>\n",
       "      <td>6</td>\n",
       "      <td>...</td>\n",
       "      <td>2</td>\n",
       "      <td>2008</td>\n",
       "      <td>underground</td>\n",
       "      <td>True</td>\n",
       "      <td>1</td>\n",
       "      <td>13.318349</td>\n",
       "      <td>2016</td>\n",
       "      <td>11</td>\n",
       "      <td>0</td>\n",
       "      <td>7</td>\n",
       "    </tr>\n",
       "    <tr>\n",
       "      <th>4</th>\n",
       "      <td>ЗАО</td>\n",
       "      <td>Раменки</td>\n",
       "      <td>Мичуринский проспект</td>\n",
       "      <td>walk</td>\n",
       "      <td>12</td>\n",
       "      <td>58507560</td>\n",
       "      <td>newBuildingFlatSale</td>\n",
       "      <td>165</td>\n",
       "      <td>49</td>\n",
       "      <td>24</td>\n",
       "      <td>...</td>\n",
       "      <td>2</td>\n",
       "      <td>2025</td>\n",
       "      <td>underground</td>\n",
       "      <td>False</td>\n",
       "      <td>1</td>\n",
       "      <td>11.258577</td>\n",
       "      <td>2024</td>\n",
       "      <td>8</td>\n",
       "      <td>4</td>\n",
       "      <td>30</td>\n",
       "    </tr>\n",
       "    <tr>\n",
       "      <th>...</th>\n",
       "      <td>...</td>\n",
       "      <td>...</td>\n",
       "      <td>...</td>\n",
       "      <td>...</td>\n",
       "      <td>...</td>\n",
       "      <td>...</td>\n",
       "      <td>...</td>\n",
       "      <td>...</td>\n",
       "      <td>...</td>\n",
       "      <td>...</td>\n",
       "      <td>...</td>\n",
       "      <td>...</td>\n",
       "      <td>...</td>\n",
       "      <td>...</td>\n",
       "      <td>...</td>\n",
       "      <td>...</td>\n",
       "      <td>...</td>\n",
       "      <td>...</td>\n",
       "      <td>...</td>\n",
       "      <td>...</td>\n",
       "      <td>...</td>\n",
       "    </tr>\n",
       "    <tr>\n",
       "      <th>52855</th>\n",
       "      <td>ЮАО</td>\n",
       "      <td>Орехово-Борисово Южное</td>\n",
       "      <td>Зябликово</td>\n",
       "      <td>walk</td>\n",
       "      <td>16</td>\n",
       "      <td>3000000</td>\n",
       "      <td>flatShareSale</td>\n",
       "      <td>283</td>\n",
       "      <td>9</td>\n",
       "      <td>1</td>\n",
       "      <td>...</td>\n",
       "      <td>0</td>\n",
       "      <td>1986</td>\n",
       "      <td>ground</td>\n",
       "      <td>True</td>\n",
       "      <td>2</td>\n",
       "      <td>18.542465</td>\n",
       "      <td>2024</td>\n",
       "      <td>12</td>\n",
       "      <td>1</td>\n",
       "      <td>3</td>\n",
       "    </tr>\n",
       "    <tr>\n",
       "      <th>52856</th>\n",
       "      <td>ЮВАО</td>\n",
       "      <td>Марьино</td>\n",
       "      <td>Братиславская</td>\n",
       "      <td>walk</td>\n",
       "      <td>10</td>\n",
       "      <td>3500000</td>\n",
       "      <td>flatShareSale</td>\n",
       "      <td>413</td>\n",
       "      <td>8</td>\n",
       "      <td>14</td>\n",
       "      <td>...</td>\n",
       "      <td>0</td>\n",
       "      <td>1999</td>\n",
       "      <td>ground</td>\n",
       "      <td>True</td>\n",
       "      <td>1</td>\n",
       "      <td>13.640801</td>\n",
       "      <td>2024</td>\n",
       "      <td>12</td>\n",
       "      <td>1</td>\n",
       "      <td>3</td>\n",
       "    </tr>\n",
       "    <tr>\n",
       "      <th>52857</th>\n",
       "      <td>САО</td>\n",
       "      <td>Левобережный</td>\n",
       "      <td>Речной вокзал</td>\n",
       "      <td>walk</td>\n",
       "      <td>7</td>\n",
       "      <td>14786265</td>\n",
       "      <td>newBuildingFlatSale</td>\n",
       "      <td>14</td>\n",
       "      <td>12</td>\n",
       "      <td>21</td>\n",
       "      <td>...</td>\n",
       "      <td>0</td>\n",
       "      <td>2025</td>\n",
       "      <td>ground</td>\n",
       "      <td>False</td>\n",
       "      <td>0</td>\n",
       "      <td>14.833499</td>\n",
       "      <td>2024</td>\n",
       "      <td>12</td>\n",
       "      <td>1</td>\n",
       "      <td>3</td>\n",
       "    </tr>\n",
       "    <tr>\n",
       "      <th>52858</th>\n",
       "      <td>ВАО</td>\n",
       "      <td>Сокольники</td>\n",
       "      <td>Сокольники</td>\n",
       "      <td>walk</td>\n",
       "      <td>14</td>\n",
       "      <td>15500000</td>\n",
       "      <td>flatSale</td>\n",
       "      <td>26</td>\n",
       "      <td>12</td>\n",
       "      <td>2</td>\n",
       "      <td>...</td>\n",
       "      <td>1</td>\n",
       "      <td>2013</td>\n",
       "      <td>ground</td>\n",
       "      <td>False</td>\n",
       "      <td>2</td>\n",
       "      <td>6.266953</td>\n",
       "      <td>2024</td>\n",
       "      <td>12</td>\n",
       "      <td>0</td>\n",
       "      <td>9</td>\n",
       "    </tr>\n",
       "    <tr>\n",
       "      <th>52859</th>\n",
       "      <td>ЮВАО</td>\n",
       "      <td>Лефортово</td>\n",
       "      <td>Римская</td>\n",
       "      <td>walk</td>\n",
       "      <td>26</td>\n",
       "      <td>17117500</td>\n",
       "      <td>newBuildingFlatSale</td>\n",
       "      <td>73</td>\n",
       "      <td>32</td>\n",
       "      <td>11</td>\n",
       "      <td>...</td>\n",
       "      <td>1</td>\n",
       "      <td>2025</td>\n",
       "      <td>underground</td>\n",
       "      <td>False</td>\n",
       "      <td>1</td>\n",
       "      <td>4.715144</td>\n",
       "      <td>2024</td>\n",
       "      <td>12</td>\n",
       "      <td>4</td>\n",
       "      <td>6</td>\n",
       "    </tr>\n",
       "  </tbody>\n",
       "</table>\n",
       "<p>52860 rows × 41 columns</p>\n",
       "</div>"
      ],
      "text/plain": [
       "      county                district                 metro travel_type  \\\n",
       "0      ЗелАО          Старое Крюково  Зеленоград — Крюково        walk   \n",
       "1        ЮАО             Даниловский              Тульская        walk   \n",
       "2       СЗАО                 Куркино           Сходненская   transport   \n",
       "3       СВАО        Лосиноостровский          Бабушкинская        walk   \n",
       "4        ЗАО                 Раменки  Мичуринский проспект        walk   \n",
       "...      ...                     ...                   ...         ...   \n",
       "52855    ЮАО  Орехово-Борисово Южное             Зябликово        walk   \n",
       "52856   ЮВАО                 Марьино         Братиславская        walk   \n",
       "52857    САО            Левобережный         Речной вокзал        walk   \n",
       "52858    ВАО              Сокольники            Сокольники        walk   \n",
       "52859   ЮВАО               Лефортово               Римская        walk   \n",
       "\n",
       "       travel_time     price             category  views_count  photos_count  \\\n",
       "0               13  14000000             flatSale          228            21   \n",
       "1               25  70000000             flatSale         1183             5   \n",
       "2               12  16900000             flatSale         3585            16   \n",
       "3               14  66000000             flatSale         8408            36   \n",
       "4               12  58507560  newBuildingFlatSale          165            49   \n",
       "...            ...       ...                  ...          ...           ...   \n",
       "52855           16   3000000        flatShareSale          283             9   \n",
       "52856           10   3500000        flatShareSale          413             8   \n",
       "52857            7  14786265  newBuildingFlatSale           14            12   \n",
       "52858           14  15500000             flatSale           26            12   \n",
       "52859           26  17117500  newBuildingFlatSale           73            32   \n",
       "\n",
       "       floor_number  ...  combined_wc build_year material_type  garbage_chute  \\\n",
       "0                 9  ...            0       2022        ground          False   \n",
       "1                 8  ...            2       2016   underground          False   \n",
       "2                 1  ...            0       1920        ground          False   \n",
       "3                 6  ...            2       2008   underground           True   \n",
       "4                24  ...            2       2025   underground          False   \n",
       "...             ...  ...          ...        ...           ...            ...   \n",
       "52855             1  ...            0       1986        ground           True   \n",
       "52856            14  ...            0       1999        ground           True   \n",
       "52857            21  ...            0       2025        ground          False   \n",
       "52858             2  ...            1       2013        ground          False   \n",
       "52859            11  ...            1       2025   underground          False   \n",
       "\n",
       "       passenger_lifts distance_from_center  year  month  day_of_week  \\\n",
       "0                    1            36.926101  2024     11            4   \n",
       "1                    3             4.774909  2016      9            0   \n",
       "2                    0            21.664143  2016      4            0   \n",
       "3                    1            13.318349  2016     11            0   \n",
       "4                    1            11.258577  2024      8            4   \n",
       "...                ...                  ...   ...    ...          ...   \n",
       "52855                2            18.542465  2024     12            1   \n",
       "52856                1            13.640801  2024     12            1   \n",
       "52857                0            14.833499  2024     12            1   \n",
       "52858                2             6.266953  2024     12            0   \n",
       "52859                1             4.715144  2024     12            4   \n",
       "\n",
       "       day_of_month  \n",
       "0                 1  \n",
       "1                12  \n",
       "2                25  \n",
       "3                 7  \n",
       "4                30  \n",
       "...             ...  \n",
       "52855             3  \n",
       "52856             3  \n",
       "52857             3  \n",
       "52858             9  \n",
       "52859             6  \n",
       "\n",
       "[52860 rows x 41 columns]"
      ]
     },
     "execution_count": 30,
     "metadata": {},
     "output_type": "execute_result"
    }
   ],
   "source": [
    "main_df.reset_index(drop=True)"
   ]
  },
  {
   "cell_type": "code",
   "execution_count": 31,
   "metadata": {
    "colab": {
     "base_uri": "https://localhost:8080/"
    },
    "id": "XxRnFw-_rI1K",
    "outputId": "c26c33bf-ad6a-4ee2-f1d5-f648672e0c43"
   },
   "outputs": [
    {
     "name": "stdout",
     "output_type": "stream",
     "text": [
      "count    52860.000000\n",
      "mean        11.140806\n",
      "std          5.897872\n",
      "min          1.000000\n",
      "25%          6.000000\n",
      "50%         10.000000\n",
      "75%         15.000000\n",
      "max         52.000000\n",
      "Name: travel_time, dtype: float64\n",
      "count    5.286000e+04\n",
      "mean     5.646295e+07\n",
      "std      1.368693e+08\n",
      "min      3.000000e+05\n",
      "25%      1.269918e+07\n",
      "50%      2.022210e+07\n",
      "75%      4.450000e+07\n",
      "max      6.450000e+09\n",
      "Name: price, dtype: float64\n",
      "count     52860.000000\n",
      "mean        725.783447\n",
      "std        2211.158622\n",
      "min           0.000000\n",
      "25%          16.000000\n",
      "50%          62.000000\n",
      "75%         453.000000\n",
      "max      164396.000000\n",
      "Name: views_count, dtype: float64\n",
      "count    52860.000000\n",
      "mean        17.650870\n",
      "std          9.708003\n",
      "min          1.000000\n",
      "25%         11.000000\n",
      "50%         16.000000\n",
      "75%         23.000000\n",
      "max         65.000000\n",
      "Name: photos_count, dtype: float64\n",
      "count    52860.000000\n",
      "mean        10.063602\n",
      "std          9.657488\n",
      "min         -1.000000\n",
      "25%          3.000000\n",
      "50%          7.000000\n",
      "75%         14.000000\n",
      "max         85.000000\n",
      "Name: floor_number, dtype: float64\n",
      "count    52860.000000\n",
      "mean        19.478282\n",
      "std         13.198621\n",
      "min          1.000000\n",
      "25%          9.000000\n",
      "50%         17.000000\n",
      "75%         25.000000\n",
      "max        123.000000\n",
      "Name: floors_count, dtype: float64\n",
      "count    52860.000000\n",
      "mean      1235.985282\n",
      "std       1198.558726\n",
      "min          0.000000\n",
      "25%        446.000000\n",
      "50%       1255.000000\n",
      "75%       1255.000000\n",
      "max       5165.000000\n",
      "Name: review_count, dtype: float64\n",
      "count    52860.000000\n",
      "mean         4.177179\n",
      "std          0.578704\n",
      "min          0.000000\n",
      "25%          4.179900\n",
      "50%          4.179900\n",
      "75%          4.400000\n",
      "max          5.000000\n",
      "Name: total_rate, dtype: float64\n",
      "count    52860.000000\n",
      "mean        78.390645\n",
      "std         73.332778\n",
      "min          8.000000\n",
      "25%         38.200000\n",
      "50%         57.000000\n",
      "75%         90.200000\n",
      "max       2055.000000\n",
      "Name: total_area, dtype: float64\n",
      "count    52860.000000\n",
      "mean        44.717294\n",
      "std         45.689165\n",
      "min          0.800000\n",
      "25%         19.500000\n",
      "50%         31.990901\n",
      "75%         52.000000\n",
      "max       1800.000000\n",
      "Name: living_area, dtype: float64\n",
      "count    52860.000000\n",
      "mean        13.824880\n",
      "std         11.930801\n",
      "min          0.091710\n",
      "25%          7.000000\n",
      "50%         10.000000\n",
      "75%         17.000000\n",
      "max        453.963162\n",
      "Name: kitchen_area, dtype: float64\n",
      "count    52860.000000\n",
      "mean         2.971628\n",
      "std          0.670722\n",
      "min          1.500000\n",
      "25%          2.700000\n",
      "50%          2.960148\n",
      "75%          3.000000\n",
      "max         35.000000\n",
      "Name: ceiling_height, dtype: float64\n",
      "count    52860.000000\n",
      "mean         0.273591\n",
      "std          0.547232\n",
      "min          0.000000\n",
      "25%          0.000000\n",
      "50%          0.000000\n",
      "75%          0.000000\n",
      "max          4.000000\n",
      "Name: balconies, dtype: float64\n",
      "count    52860.000000\n",
      "mean         0.253424\n",
      "std          0.537673\n",
      "min          0.000000\n",
      "25%          0.000000\n",
      "50%          0.000000\n",
      "75%          0.000000\n",
      "max          4.000000\n",
      "Name: loggias, dtype: float64\n",
      "count    52860.000000\n",
      "mean         2.290636\n",
      "std          1.572419\n",
      "min          0.000000\n",
      "25%          1.000000\n",
      "50%          2.000000\n",
      "75%          3.000000\n",
      "max         51.000000\n",
      "Name: rooms_count, dtype: float64\n",
      "count    52860.000000\n",
      "mean         0.386644\n",
      "std          0.654363\n",
      "min          0.000000\n",
      "25%          0.000000\n",
      "50%          0.000000\n",
      "75%          1.000000\n",
      "max          9.000000\n",
      "Name: separated_wc, dtype: float64\n",
      "count    52860.000000\n",
      "mean         0.812334\n",
      "std          0.932545\n",
      "min          0.000000\n",
      "25%          0.000000\n",
      "50%          1.000000\n",
      "75%          1.000000\n",
      "max          9.000000\n",
      "Name: combined_wc, dtype: float64\n",
      "count    52860.000000\n",
      "mean      2001.539671\n",
      "std         29.357642\n",
      "min       1614.000000\n",
      "25%       1978.000000\n",
      "50%       2017.000000\n",
      "75%       2024.000000\n",
      "max       2028.000000\n",
      "Name: build_year, dtype: float64\n",
      "count    52860.000000\n",
      "mean         1.330760\n",
      "std          1.998017\n",
      "min          0.000000\n",
      "25%          0.000000\n",
      "50%          1.000000\n",
      "75%          2.000000\n",
      "max         52.000000\n",
      "Name: passenger_lifts, dtype: float64\n",
      "count    52860.000000\n",
      "mean        10.309283\n",
      "std          5.936631\n",
      "min          0.216787\n",
      "25%          6.061233\n",
      "50%          9.898600\n",
      "75%         13.467808\n",
      "max         39.984465\n",
      "Name: distance_from_center, dtype: float64\n",
      "count    52860.000000\n",
      "mean      2023.849981\n",
      "std          0.523070\n",
      "min       2014.000000\n",
      "25%       2024.000000\n",
      "50%       2024.000000\n",
      "75%       2024.000000\n",
      "max       2024.000000\n",
      "Name: year, dtype: float64\n",
      "count    52860.000000\n",
      "mean         9.397806\n",
      "std          2.576082\n",
      "min          1.000000\n",
      "25%          9.000000\n",
      "50%         10.000000\n",
      "75%         11.000000\n",
      "max         12.000000\n",
      "Name: month, dtype: float64\n",
      "count    52860.000000\n",
      "mean         2.460935\n",
      "std          1.776595\n",
      "min          0.000000\n",
      "25%          1.000000\n",
      "50%          2.000000\n",
      "75%          4.000000\n",
      "max          6.000000\n",
      "Name: day_of_week, dtype: float64\n",
      "count    52860.000000\n",
      "mean        16.120866\n",
      "std          9.186337\n",
      "min          1.000000\n",
      "25%          8.000000\n",
      "50%         16.000000\n",
      "75%         25.000000\n",
      "max         31.000000\n",
      "Name: day_of_month, dtype: float64\n"
     ]
    }
   ],
   "source": [
    "for i in main_df.describe():\n",
    "  print(main_df.describe()[i])"
   ]
  },
  {
   "cell_type": "code",
   "execution_count": 32,
   "metadata": {
    "colab": {
     "base_uri": "https://localhost:8080/"
    },
    "id": "cC_cFMs3quQm",
    "outputId": "2136efad-f3cc-46ee-ec9c-ef3d7a9e58d7"
   },
   "outputs": [
    {
     "name": "stdout",
     "output_type": "stream",
     "text": [
      "<class 'pandas.core.frame.DataFrame'>\n",
      "Index: 52860 entries, 0 to 65761\n",
      "Data columns (total 41 columns):\n",
      " #   Column                Non-Null Count  Dtype  \n",
      "---  ------                --------------  -----  \n",
      " 0   county                52860 non-null  object \n",
      " 1   district              52860 non-null  object \n",
      " 2   metro                 52860 non-null  object \n",
      " 3   travel_type           52860 non-null  object \n",
      " 4   travel_time           52860 non-null  int64  \n",
      " 5   price                 52860 non-null  int64  \n",
      " 6   category              52860 non-null  object \n",
      " 7   views_count           52860 non-null  int64  \n",
      " 8   photos_count          52860 non-null  int64  \n",
      " 9   floor_number          52860 non-null  int64  \n",
      " 10  floors_count          52860 non-null  int64  \n",
      " 11  flat_type             52860 non-null  object \n",
      " 12  sale_type             52860 non-null  object \n",
      " 13  review_count          52860 non-null  int64  \n",
      " 14  total_rate            52860 non-null  float64\n",
      " 15  project_type          52860 non-null  object \n",
      " 16  is_apartment          52860 non-null  bool   \n",
      " 17  is_penthouse          52860 non-null  bool   \n",
      " 18  is_mortgage_allowed   52860 non-null  bool   \n",
      " 19  is_premium            52860 non-null  bool   \n",
      " 20  is_emergency          52860 non-null  bool   \n",
      " 21  renovation_programm   52860 non-null  bool   \n",
      " 22  repair_type           52860 non-null  object \n",
      " 23  total_area            52860 non-null  float64\n",
      " 24  living_area           52860 non-null  float64\n",
      " 25  kitchen_area          52860 non-null  float64\n",
      " 26  ceiling_height        52860 non-null  float64\n",
      " 27  balconies             52860 non-null  int64  \n",
      " 28  loggias               52860 non-null  int64  \n",
      " 29  rooms_count           52860 non-null  int64  \n",
      " 30  separated_wc          52860 non-null  int64  \n",
      " 31  combined_wc           52860 non-null  int64  \n",
      " 32  build_year            52860 non-null  int64  \n",
      " 33  material_type         52860 non-null  object \n",
      " 34  garbage_chute         52860 non-null  bool   \n",
      " 35  passenger_lifts       52860 non-null  int64  \n",
      " 36  distance_from_center  52860 non-null  float64\n",
      " 37  year                  52860 non-null  int64  \n",
      " 38  month                 52860 non-null  int64  \n",
      " 39  day_of_week           52860 non-null  int64  \n",
      " 40  day_of_month          52860 non-null  int64  \n",
      "dtypes: bool(7), float64(6), int64(18), object(10)\n",
      "memory usage: 14.5+ MB\n"
     ]
    }
   ],
   "source": [
    "main_df.info()"
   ]
  },
  {
   "cell_type": "code",
   "execution_count": 33,
   "metadata": {
    "id": "WqgldE-uo6VZ"
   },
   "outputs": [],
   "source": [
    "X = main_df.drop(columns=['price'])  # Все столбцы, кроме 'price', будут признаками\n",
    "y = main_df['price']  # Целевая переменная"
   ]
  },
  {
   "cell_type": "code",
   "execution_count": 34,
   "metadata": {
    "id": "k0EU4Kg2o8qI"
   },
   "outputs": [],
   "source": [
    "from sklearn.model_selection import train_test_split\n",
    "X_train, X_test, y_train, y_test = train_test_split(X, y, test_size=0.2, random_state=42)"
   ]
  },
  {
   "cell_type": "code",
   "execution_count": 35,
   "metadata": {
    "id": "7UpWJJ1zlOXm"
   },
   "outputs": [],
   "source": [
    "import pandas as pd\n",
    "from sklearn.preprocessing import OneHotEncoder, LabelEncoder, TargetEncoder, StandardScaler\n",
    "\n",
    "# Onehot Encoding\n",
    "onehot_columns = ['county', 'flat_type', 'sale_type', 'category', 'material_type', 'travel_type']\n",
    "onehot_encoder = OneHotEncoder(drop='first', sparse_output=False, handle_unknown='ignore')\n",
    "X_train_encoded = pd.DataFrame(onehot_encoder.fit_transform(X_train[onehot_columns]), columns=onehot_encoder.get_feature_names_out(onehot_columns))\n",
    "X_test_encoded = pd.DataFrame(onehot_encoder.transform(X_test[onehot_columns]), columns=onehot_encoder.get_feature_names_out(onehot_columns))\n",
    "X_train = pd.concat([X_train.drop(columns=onehot_columns).reset_index(drop=True), X_train_encoded], axis=1)\n",
    "X_test = pd.concat([X_test.drop(columns=onehot_columns).reset_index(drop=True), X_test_encoded], axis=1)\n",
    "\n",
    "# Ordinal Encoding для столбцов с упорядоченными категориями\n",
    "ordinal_columns = {'repair_type': {'no': 0, 'cosmetic': 1, 'euro': 2, 'design': 3}}\n",
    "for col, mapping in ordinal_columns.items():\n",
    "    X_train[col] = X_train[col].map(mapping)\n",
    "    X_test[col] = X_test[col].map(mapping)\n",
    "\n",
    "# Target Encoding для столбцов с большим количеством уникальных категорий\n",
    "target_columns = ['district', 'project_type', 'metro']\n",
    "target_encoder = TargetEncoder(target_type='continuous')\n",
    "\n",
    "# Применяем Target Encoding для столбцов с небольшим количеством уникальных категорий\n",
    "X_train[target_columns]= pd.DataFrame(target_encoder.fit_transform(X_train[target_columns], y_train), columns=target_columns)\n",
    "X_test[target_columns]= pd.DataFrame(target_encoder.transform(X_test[target_columns]), columns=target_columns)\n",
    "\n",
    "# Scaler\n",
    "scaler = StandardScaler()\n",
    "X_train = pd.DataFrame(scaler.fit_transform(X_train), columns=X_train.columns)\n",
    "X_test = pd.DataFrame(scaler.transform(X_test), columns=X_test.columns)"
   ]
  },
  {
   "cell_type": "code",
   "execution_count": 36,
   "metadata": {
    "colab": {
     "base_uri": "https://localhost:8080/"
    },
    "id": "jQSl3ZgetB6b",
    "outputId": "afe7c9e3-6894-40be-fcfc-69e347bc7c6b"
   },
   "outputs": [
    {
     "data": {
      "text/plain": [
       "((42288, 59), (10572, 59))"
      ]
     },
     "execution_count": 36,
     "metadata": {},
     "output_type": "execute_result"
    }
   ],
   "source": [
    "X_train.shape, X_test.shape"
   ]
  },
  {
   "cell_type": "code",
   "execution_count": 37,
   "metadata": {
    "colab": {
     "base_uri": "https://localhost:8080/"
    },
    "id": "TcaPwgo0uu4p",
    "outputId": "942a4383-1724-40c2-950e-0f4d5fab84ab"
   },
   "outputs": [
    {
     "name": "stdout",
     "output_type": "stream",
     "text": [
      "<class 'pandas.core.frame.DataFrame'>\n",
      "RangeIndex: 42288 entries, 0 to 42287\n",
      "Data columns (total 59 columns):\n",
      " #   Column                        Non-Null Count  Dtype  \n",
      "---  ------                        --------------  -----  \n",
      " 0   district                      42288 non-null  float64\n",
      " 1   metro                         42288 non-null  float64\n",
      " 2   travel_time                   42288 non-null  float64\n",
      " 3   views_count                   42288 non-null  float64\n",
      " 4   photos_count                  42288 non-null  float64\n",
      " 5   floor_number                  42288 non-null  float64\n",
      " 6   floors_count                  42288 non-null  float64\n",
      " 7   review_count                  42288 non-null  float64\n",
      " 8   total_rate                    42288 non-null  float64\n",
      " 9   project_type                  42288 non-null  float64\n",
      " 10  is_apartment                  42288 non-null  float64\n",
      " 11  is_penthouse                  42288 non-null  float64\n",
      " 12  is_mortgage_allowed           42288 non-null  float64\n",
      " 13  is_premium                    42288 non-null  float64\n",
      " 14  is_emergency                  42288 non-null  float64\n",
      " 15  renovation_programm           42288 non-null  float64\n",
      " 16  repair_type                   42288 non-null  float64\n",
      " 17  total_area                    42288 non-null  float64\n",
      " 18  living_area                   42288 non-null  float64\n",
      " 19  kitchen_area                  42288 non-null  float64\n",
      " 20  ceiling_height                42288 non-null  float64\n",
      " 21  balconies                     42288 non-null  float64\n",
      " 22  loggias                       42288 non-null  float64\n",
      " 23  rooms_count                   42288 non-null  float64\n",
      " 24  separated_wc                  42288 non-null  float64\n",
      " 25  combined_wc                   42288 non-null  float64\n",
      " 26  build_year                    42288 non-null  float64\n",
      " 27  garbage_chute                 42288 non-null  float64\n",
      " 28  passenger_lifts               42288 non-null  float64\n",
      " 29  distance_from_center          42288 non-null  float64\n",
      " 30  year                          42288 non-null  float64\n",
      " 31  month                         42288 non-null  float64\n",
      " 32  day_of_week                   42288 non-null  float64\n",
      " 33  day_of_month                  42288 non-null  float64\n",
      " 34  county_ЗАО                    42288 non-null  float64\n",
      " 35  county_ЗелАО                  42288 non-null  float64\n",
      " 36  county_САО                    42288 non-null  float64\n",
      " 37  county_СВАО                   42288 non-null  float64\n",
      " 38  county_СЗАО                   42288 non-null  float64\n",
      " 39  county_ТАО (Троицкий)         42288 non-null  float64\n",
      " 40  county_ЦАО                    42288 non-null  float64\n",
      " 41  county_ЮАО                    42288 non-null  float64\n",
      " 42  county_ЮВАО                   42288 non-null  float64\n",
      " 43  county_ЮЗАО                   42288 non-null  float64\n",
      " 44  flat_type_rooms               42288 non-null  float64\n",
      " 45  flat_type_studio              42288 non-null  float64\n",
      " 46  sale_type_dupt                42288 non-null  float64\n",
      " 47  sale_type_dzhsk               42288 non-null  float64\n",
      " 48  sale_type_free                42288 non-null  float64\n",
      " 49  sale_type_fz214               42288 non-null  float64\n",
      " 50  sale_type_investment          42288 non-null  float64\n",
      " 51  sale_type_pdkp                42288 non-null  float64\n",
      " 52  category_flatShareSale        42288 non-null  float64\n",
      " 53  category_newBuildingFlatSale  42288 non-null  float64\n",
      " 54  material_type_multilevel      42288 non-null  float64\n",
      " 55  material_type_open            42288 non-null  float64\n",
      " 56  material_type_roof            42288 non-null  float64\n",
      " 57  material_type_underground     42288 non-null  float64\n",
      " 58  travel_type_walk              42288 non-null  float64\n",
      "dtypes: float64(59)\n",
      "memory usage: 19.0 MB\n"
     ]
    }
   ],
   "source": [
    "X_train.info()"
   ]
  },
  {
   "cell_type": "markdown",
   "metadata": {
    "id": "1h-bGk4hecCJ"
   },
   "source": [
    "# **Обучение моделей**"
   ]
  },
  {
   "cell_type": "markdown",
   "metadata": {
    "id": "O3fJTeF5esXW"
   },
   "source": [
    "**Модель LinearRegression**\n",
    "\n",
    "---\n",
    "\n"
   ]
  },
  {
   "cell_type": "code",
   "execution_count": 38,
   "metadata": {
    "colab": {
     "base_uri": "https://localhost:8080/"
    },
    "id": "9g1_lyZh79Jk",
    "outputId": "f2d311fa-680e-4a3c-d9fd-cb83abaff487"
   },
   "outputs": [
    {
     "name": "stdout",
     "output_type": "stream",
     "text": [
      "Metrics_train:\n",
      "mse=7169185497655377.0\n",
      "R2=0.6239960106762912\n",
      "mae=29743897.525535725\n",
      "mape=0.9563515991434347\n",
      "\n",
      "Metrics_test:\n",
      "mse=4941360904622132.0\n",
      "R2=0.7159659220659786\n",
      "mae=29305584.20174403\n",
      "mape=0.9733905846881912\n",
      "\n"
     ]
    }
   ],
   "source": [
    "from sklearn.linear_model import LinearRegression\n",
    "from sklearn.metrics import mean_squared_error, r2_score, mean_absolute_error, mean_absolute_percentage_error\n",
    "\n",
    "model = LinearRegression()\n",
    "model.fit(X_train, y_train)\n",
    "train_pred = model.predict(X_train)\n",
    "test_pred = model.predict(X_test)\n",
    "\n",
    "print(f'''Metrics_train:\n",
    "mse={mean_squared_error(y_train, train_pred)}\n",
    "R2={r2_score(y_train, train_pred)}\n",
    "mae={mean_absolute_error(y_train, train_pred)}\n",
    "mape={mean_absolute_percentage_error(y_train, train_pred)}\n",
    "''')\n",
    "print(f'''Metrics_test:\n",
    "mse={mean_squared_error(y_test, test_pred)}\n",
    "R2={r2_score(y_test, test_pred)}\n",
    "mae={mean_absolute_error(y_test, test_pred)}\n",
    "mape={mean_absolute_percentage_error(y_test, test_pred)}\n",
    "''')"
   ]
  },
  {
   "cell_type": "code",
   "execution_count": 39,
   "metadata": {
    "colab": {
     "base_uri": "https://localhost:8080/",
     "height": 397
    },
    "id": "-MOidG8C-s60",
    "outputId": "a6c442cf-bd86-404d-c9a0-b43e3d6b3ed4"
   },
   "outputs": [
    {
     "data": {
      "text/plain": [
       "total_area      119893124\n",
       "metro            33930033\n",
       "rooms_count      21991368\n",
       "living_area      21981007\n",
       "build_year       12813772\n",
       "floors_count      9179740\n",
       "project_type      8771410\n",
       "is_penthouse      8118572\n",
       "county_ЗАО        7988191\n",
       "views_count       7339111\n",
       "Name: coeff, dtype: int64"
      ]
     },
     "execution_count": 39,
     "metadata": {},
     "output_type": "execute_result"
    }
   ],
   "source": [
    "coeff = pd.DataFrame(model.coef_, X_train.columns, columns=['coeff'])\n",
    "coeff['coeff'].abs().sort_values(ascending=False).astype(int).head(10)"
   ]
  },
  {
   "cell_type": "code",
   "execution_count": 40,
   "metadata": {
    "colab": {
     "base_uri": "https://localhost:8080/"
    },
    "id": "kX1O9qVJ_ODp",
    "outputId": "462290ab-6679-49f5-994b-d4623c1c6198"
   },
   "outputs": [
    {
     "data": {
      "text/plain": [
       "np.float64(56443638.45634619)"
      ]
     },
     "execution_count": 40,
     "metadata": {},
     "output_type": "execute_result"
    }
   ],
   "source": [
    "model.intercept_"
   ]
  },
  {
   "cell_type": "code",
   "execution_count": 41,
   "metadata": {
    "colab": {
     "base_uri": "https://localhost:8080/",
     "height": 711
    },
    "id": "7CcaqY-H6aAV",
    "outputId": "4076b08a-beb3-4af7-9035-c91e0938492d"
   },
   "outputs": [
    {
     "data": {
      "text/plain": [
       "sale_type_investment           29267\n",
       "material_type_underground      37076\n",
       "material_type_roof             81432\n",
       "material_type_multilevel      219378\n",
       "garbage_chute                 227309\n",
       "county_ТАО (Троицкий)         244893\n",
       "category_flatShareSale        252775\n",
       "passenger_lifts               362867\n",
       "sale_type_dzhsk               450098\n",
       "county_ЮВАО                   619891\n",
       "review_count                  634552\n",
       "ceiling_height                669808\n",
       "county_СВАО                   675773\n",
       "sale_type_pdkp                711999\n",
       "day_of_month                  772001\n",
       "kitchen_area                  856812\n",
       "sale_type_dupt                971481\n",
       "flat_type_studio             1056281\n",
       "travel_time                  1090174\n",
       "sale_type_fz214              1133913\n",
       "Name: coeff, dtype: int64"
      ]
     },
     "execution_count": 41,
     "metadata": {},
     "output_type": "execute_result"
    }
   ],
   "source": [
    "coeff['coeff'].abs().sort_values(ascending=True).astype(int).head(20)"
   ]
  },
  {
   "cell_type": "markdown",
   "metadata": {
    "id": "gdtRYKcTewdY"
   },
   "source": [
    "**Модель RidgeCV**\n",
    "\n",
    "---\n",
    "\n"
   ]
  },
  {
   "cell_type": "code",
   "execution_count": 42,
   "metadata": {
    "colab": {
     "base_uri": "https://localhost:8080/"
    },
    "id": "WO51AvVyDVek",
    "outputId": "9ecdf370-ac8c-43b2-873b-56bf8fa7ac37"
   },
   "outputs": [
    {
     "name": "stdout",
     "output_type": "stream",
     "text": [
      "Лучшее значение alpha: 100000.0\n",
      "Metrics_train:\n",
      "mse=9787851038122750.0\n",
      "R2=0.48665423171935496\n",
      "mae=28286856.143591378\n",
      "mape=0.7021009974148534\n",
      "\n",
      "Metrics_test:\n",
      "mse=7851178455694176.0\n",
      "R2=0.5487068691395093\n",
      "mae=28536082.255149562\n",
      "mape=0.7182743836906713\n",
      "\n"
     ]
    }
   ],
   "source": [
    "from sklearn.linear_model import RidgeCV\n",
    "from sklearn.metrics import mean_squared_error, r2_score, mean_absolute_error, mean_absolute_percentage_error\n",
    "\n",
    "model_2 = RidgeCV(alphas=[0.001, 0.01, 0.5, 1, 10, 100, 1000, 10000, 25000, 50000, 100000], scoring='neg_mean_absolute_percentage_error')\n",
    "model_2.fit(X_train, y_train)\n",
    "train_pred_2 = model_2.predict(X_train)\n",
    "test_pred_2 = model_2.predict(X_test)\n",
    "\n",
    "print(f\"Лучшее значение alpha: {model_2.alpha_}\")\n",
    "\n",
    "print(f'''Metrics_train:\n",
    "mse={mean_squared_error(y_train, train_pred_2)}\n",
    "R2={r2_score(y_train, train_pred_2)}\n",
    "mae={mean_absolute_error(y_train, train_pred_2)}\n",
    "mape={mean_absolute_percentage_error(y_train, train_pred_2)}\n",
    "''')\n",
    "print(f'''Metrics_test:\n",
    "mse={mean_squared_error(y_test, test_pred_2)}\n",
    "R2={r2_score(y_test, test_pred_2)}\n",
    "mae={mean_absolute_error(y_test, test_pred_2)}\n",
    "mape={mean_absolute_percentage_error(y_test, test_pred_2)}\n",
    "''')\n"
   ]
  },
  {
   "cell_type": "markdown",
   "metadata": {
    "id": "bjkBGH8Le4bC"
   },
   "source": [
    "**Модель Ridge**\n",
    "\n",
    "---"
   ]
  },
  {
   "cell_type": "code",
   "execution_count": 43,
   "metadata": {
    "colab": {
     "base_uri": "https://localhost:8080/"
    },
    "id": "l97dpUzKC2pT",
    "outputId": "9d430e9c-e872-492d-a4e0-e9e4c999124a"
   },
   "outputs": [
    {
     "name": "stdout",
     "output_type": "stream",
     "text": [
      "Metrics_train:\n",
      "mse=7169185691477735.0\n",
      "R2=0.6239960005108436\n",
      "mae=29742850.303624265\n",
      "mape=0.9563154219284983\n",
      "\n",
      "Metrics_test:\n",
      "mse=4941423461371238.0\n",
      "R2=0.7159623262451322\n",
      "mae=29304768.90583379\n",
      "mape=0.9733470829771005\n",
      "\n"
     ]
    }
   ],
   "source": [
    "from sklearn.linear_model import Ridge\n",
    "from sklearn.metrics import mean_squared_error, r2_score, mean_absolute_error, mean_absolute_percentage_error\n",
    "\n",
    "model_3 = Ridge()\n",
    "\n",
    "model_3.fit(X_train, y_train)\n",
    "train_pred_3 = model_3.predict(X_train)\n",
    "test_pred_3= model_3.predict(X_test)\n",
    "\n",
    "print(f'''Metrics_train:\n",
    "mse={mean_squared_error(y_train, train_pred_3)}\n",
    "R2={r2_score(y_train, train_pred_3)}\n",
    "mae={mean_absolute_error(y_train, train_pred_3)}\n",
    "mape={mean_absolute_percentage_error(y_train, train_pred_3)}\n",
    "''')\n",
    "print(f'''Metrics_test:\n",
    "mse={mean_squared_error(y_test, test_pred_3)}\n",
    "R2={r2_score(y_test, test_pred_3)}\n",
    "mae={mean_absolute_error(y_test, test_pred_3)}\n",
    "mape={mean_absolute_percentage_error(y_test, test_pred_3)}\n",
    "''')\n"
   ]
  },
  {
   "cell_type": "code",
   "execution_count": 44,
   "metadata": {
    "colab": {
     "base_uri": "https://localhost:8080/",
     "height": 397
    },
    "id": "NlDi876X4rTF",
    "outputId": "c010a5bb-8212-4dcf-902e-bcf73395f4c8"
   },
   "outputs": [
    {
     "data": {
      "text/plain": [
       "total_area      119834260\n",
       "metro            33927883\n",
       "rooms_count      21987663\n",
       "living_area      21935903\n",
       "build_year       12813807\n",
       "floors_count      9180053\n",
       "project_type      8771134\n",
       "is_penthouse      8119985\n",
       "county_ЗАО        7987157\n",
       "views_count       7339171\n",
       "Name: coeff, dtype: int64"
      ]
     },
     "execution_count": 44,
     "metadata": {},
     "output_type": "execute_result"
    }
   ],
   "source": [
    "coeff = pd.DataFrame(model_3.coef_, X_train.columns, columns=['coeff'])\n",
    "coeff['coeff'].abs().sort_values(ascending=False).astype(int).head(10)"
   ]
  },
  {
   "cell_type": "markdown",
   "metadata": {
    "id": "73P97l1nfJVy"
   },
   "source": [
    "**Модель LassoCV**\n",
    "\n",
    "---"
   ]
  },
  {
   "cell_type": "code",
   "execution_count": 45,
   "metadata": {
    "colab": {
     "base_uri": "https://localhost:8080/"
    },
    "id": "FV3Y3EaMFAl_",
    "outputId": "ad91bfda-8744-4067-de61-d0914453094f"
   },
   "outputs": [
    {
     "name": "stdout",
     "output_type": "stream",
     "text": [
      "Лучшее значение alpha: 25000.0\n",
      "Metrics_train:\n",
      "mse=7169352891728903.0\n",
      "R2=0.6239872313192143\n",
      "mae=29688414.293079846\n",
      "mape=0.9527486702310279\n",
      "\n",
      "Metrics_test:\n",
      "mse=4941037695336390.0\n",
      "R2=0.71598450044008\n",
      "mae=29250196.863590397\n",
      "mape=0.9692648223905219\n",
      "\n"
     ]
    }
   ],
   "source": [
    "from sklearn.linear_model import LassoCV\n",
    "from sklearn.metrics import mean_squared_error, r2_score, mean_absolute_error, mean_absolute_percentage_error, make_scorer\n",
    "\n",
    "model_4 = LassoCV(alphas=[0.01, 1, 10, 100, 1000, 10000, 25000, 50000, 100000], max_iter=10000, cv=5)\n",
    "model_4.fit(X_train, y_train)\n",
    "\n",
    "print(f\"Лучшее значение alpha: {model_4.alpha_}\")\n",
    "\n",
    "train_pred_4 = model_4.predict(X_train)\n",
    "test_pred_4 = model_4.predict(X_test)\n",
    "\n",
    "print(f'''Metrics_train:\n",
    "mse={mean_squared_error(y_train, train_pred_4)}\n",
    "R2={r2_score(y_train, train_pred_4)}\n",
    "mae={mean_absolute_error(y_train, train_pred_4)}\n",
    "mape={mean_absolute_percentage_error(y_train, train_pred_4)}\n",
    "''')\n",
    "print(f'''Metrics_test:\n",
    "mse={mean_squared_error(y_test, test_pred_4)}\n",
    "R2={r2_score(y_test, test_pred_4)}\n",
    "mae={mean_absolute_error(y_test, test_pred_4)}\n",
    "mape={mean_absolute_percentage_error(y_test, test_pred_4)}\n",
    "''')\n"
   ]
  },
  {
   "cell_type": "code",
   "execution_count": 46,
   "metadata": {
    "id": "P3KYnmwwJACM"
   },
   "outputs": [],
   "source": [
    "import numpy as np\n",
    "\n",
    "def smape(y_true, y_pred):\n",
    "    numerator = np.abs(y_true - y_pred)\n",
    "    denominator = (np.abs(y_true) + np.abs(y_pred)) / 2\n",
    "    return np.mean(numerator / denominator) * 100"
   ]
  },
  {
   "cell_type": "code",
   "execution_count": 47,
   "metadata": {
    "colab": {
     "base_uri": "https://localhost:8080/"
    },
    "id": "Y33bAfSKJIjN",
    "outputId": "8d36b699-0abb-4031-d206-514fb444bb04"
   },
   "outputs": [
    {
     "data": {
      "text/plain": [
       "np.float64(81.69734229556974)"
      ]
     },
     "execution_count": 47,
     "metadata": {},
     "output_type": "execute_result"
    }
   ],
   "source": [
    "smape(y_test, test_pred_4)\n"
   ]
  },
  {
   "cell_type": "code",
   "execution_count": 48,
   "metadata": {
    "colab": {
     "base_uri": "https://localhost:8080/",
     "height": 397
    },
    "id": "rLPqGzuS92Kf",
    "outputId": "f0aa2db4-fdbc-4574-bc38-1445a246685a"
   },
   "outputs": [
    {
     "data": {
      "text/plain": [
       "total_area      119086026\n",
       "metro            33890491\n",
       "rooms_count      21951028\n",
       "living_area      21328756\n",
       "build_year       12766199\n",
       "floors_count      9084511\n",
       "project_type      8757383\n",
       "is_penthouse      8121751\n",
       "county_ЗАО        7587872\n",
       "views_count       7285479\n",
       "Name: coeff, dtype: int64"
      ]
     },
     "execution_count": 48,
     "metadata": {},
     "output_type": "execute_result"
    }
   ],
   "source": [
    "coeff = pd.DataFrame(model_4.coef_, X_train.columns, columns=['coeff'])\n",
    "coeff['coeff'].abs().sort_values(ascending=False).astype(int).head(10)"
   ]
  },
  {
   "cell_type": "markdown",
   "metadata": {
    "id": "RfoXNxEcfL91"
   },
   "source": [
    "**Модель SGDRegressor**\n",
    "\n",
    "---"
   ]
  },
  {
   "cell_type": "code",
   "execution_count": 49,
   "metadata": {
    "colab": {
     "base_uri": "https://localhost:8080/"
    },
    "id": "fQoD5CydNDb3",
    "outputId": "f7f77feb-61bc-45e4-a56e-d289ca6ca7ab"
   },
   "outputs": [
    {
     "name": "stdout",
     "output_type": "stream",
     "text": [
      "Metrics_train:\n",
      "mse=3334058911899098546176.000000\n",
      "R2=-174861.186496\n",
      "mae=1685335725.029888\n",
      "mape=86.052533\n",
      "\n",
      "Metrics_test:\n",
      "mse=2578242404935098957824.000000\n",
      "R2=-148198.801292\n",
      "mae=1527200015.885394\n",
      "mape=105.966851\n",
      "\n"
     ]
    }
   ],
   "source": [
    "from sklearn.linear_model import SGDRegressor\n",
    "from sklearn.metrics import mean_squared_error, r2_score, mean_absolute_error, mean_absolute_percentage_error\n",
    "\n",
    "model_5 = SGDRegressor(max_iter=10000)\n",
    "model_5.fit(X_train, y_train)\n",
    "\n",
    "train_pred_5 = model_5.predict(X_train)\n",
    "test_pred_5 = model_5.predict(X_test)\n",
    "\n",
    "print(f'''Metrics_train:\n",
    "mse={mean_squared_error(y_train, train_pred_5):.6f}\n",
    "R2={r2_score(y_train, train_pred_5):.6f}\n",
    "mae={mean_absolute_error(y_train, train_pred_5):.6f}\n",
    "mape={mean_absolute_percentage_error(y_train, train_pred_5):.6f}\n",
    "''')\n",
    "\n",
    "print(f'''Metrics_test:\n",
    "mse={mean_squared_error(y_test, test_pred_5):.6f}\n",
    "R2={r2_score(y_test, test_pred_5):.6f}\n",
    "mae={mean_absolute_error(y_test, test_pred_5):.6f}\n",
    "mape={mean_absolute_percentage_error(y_test, test_pred_5):.6f}\n",
    "''')"
   ]
  },
  {
   "cell_type": "code",
   "execution_count": 50,
   "metadata": {
    "colab": {
     "base_uri": "https://localhost:8080/",
     "height": 397
    },
    "id": "YmWV1Cm647OK",
    "outputId": "ae9fae73-1429-488a-d3bc-5da9bc040597"
   },
   "outputs": [
    {
     "data": {
      "text/plain": [
       "sale_type_dzhsk         43289256307\n",
       "sale_type_investment    35884585183\n",
       "is_emergency             9391690906\n",
       "material_type_roof       9007137832\n",
       "county_ЮЗАО               686066206\n",
       "review_count              531111386\n",
       "project_type              393628397\n",
       "sale_type_fz214           377992073\n",
       "total_area                355345494\n",
       "distance_from_center      355341027\n",
       "Name: coeff, dtype: int64"
      ]
     },
     "execution_count": 50,
     "metadata": {},
     "output_type": "execute_result"
    }
   ],
   "source": [
    "coeff = pd.DataFrame(model_5.coef_, X_train.columns, columns=['coeff'])\n",
    "coeff['coeff'].abs().sort_values(ascending=False).astype(int).head(10)"
   ]
  },
  {
   "cell_type": "markdown",
   "metadata": {
    "id": "HOwdrjBTfO2Q"
   },
   "source": [
    "**Модель ElasticNetCV**\n",
    "\n",
    "---"
   ]
  },
  {
   "cell_type": "code",
   "execution_count": 51,
   "metadata": {
    "colab": {
     "base_uri": "https://localhost:8080/"
    },
    "id": "Ivh_03PuLuAf",
    "outputId": "6ab3f6ae-f773-48e1-914a-48a791545c82"
   },
   "outputs": [
    {
     "name": "stdout",
     "output_type": "stream",
     "text": [
      "Best alpha: 0.001\n",
      "Best l1_ratio: 0.2\n",
      "\n",
      "Metrics_train:\n",
      "mse=7169397572875873.000000\n",
      "R2=0.623985\n",
      "mae=29709751.622034\n",
      "mape=0.955157\n",
      "\n",
      "Metrics_test:\n",
      "mse=4943608660803409.000000\n",
      "R2=0.715837\n",
      "mae=29279794.094482\n",
      "mape=0.971967\n",
      "\n"
     ]
    }
   ],
   "source": [
    "from sklearn.linear_model import ElasticNetCV\n",
    "\n",
    "elastic_model = ElasticNetCV(\n",
    "    alphas=[0.001, 0.01, 0.5, 1, 10],\n",
    "    l1_ratio=[0.2, 0.3, 0.5, 0.7, 0.8],\n",
    "    max_iter=10000,\n",
    "    cv=10,\n",
    ")\n",
    "elastic_model.fit(X_train, y_train)\n",
    "train_pred_6 = elastic_model.predict(X_train)\n",
    "test_pred_6 = elastic_model.predict(X_test)\n",
    "\n",
    "print(f\"Best alpha: {elastic_model.alpha_}\")\n",
    "print(f\"Best l1_ratio: {elastic_model.l1_ratio_}\\n\")\n",
    "\n",
    "print(f'''Metrics_train:\n",
    "mse={mean_squared_error(y_train, train_pred_6):.6f}\n",
    "R2={r2_score(y_train, train_pred_6):.6f}\n",
    "mae={mean_absolute_error(y_train, train_pred_6):.6f}\n",
    "mape={mean_absolute_percentage_error(y_train, train_pred_6):.6f}\n",
    "''')\n",
    "\n",
    "print(f'''Metrics_test:\n",
    "mse={mean_squared_error(y_test, test_pred_6):.6f}\n",
    "R2={r2_score(y_test, test_pred_6):.6f}\n",
    "mae={mean_absolute_error(y_test, test_pred_6):.6f}\n",
    "mape={mean_absolute_percentage_error(y_test, test_pred_6):.6f}\n",
    "''')"
   ]
  },
  {
   "cell_type": "markdown",
   "metadata": {
    "id": "AAmX0ow8fU8-"
   },
   "source": [
    "**Модель LinearRegression + PCA**\n",
    "\n",
    "---"
   ]
  },
  {
   "cell_type": "code",
   "execution_count": 52,
   "metadata": {
    "colab": {
     "base_uri": "https://localhost:8080/"
    },
    "id": "Dd4XF5CsQPwY",
    "outputId": "aa1372ad-8e0e-473d-bd83-e9b27c04f277"
   },
   "outputs": [
    {
     "name": "stdout",
     "output_type": "stream",
     "text": [
      "Metrics_train:\n",
      "mse=8259686679467934.000000\n",
      "R2=0.566802\n",
      "mae=35737207.781084\n",
      "mape=1.248634\n",
      "\n",
      "Metrics_test:\n",
      "mse=6041037511445076.000000\n",
      "R2=0.652755\n",
      "mae=35642602.542544\n",
      "mape=1.275289\n",
      "\n"
     ]
    }
   ],
   "source": [
    "from sklearn.decomposition import PCA\n",
    "pca = PCA(n_components=0.95)\n",
    "X_train_pca = pca.fit_transform(X_train)\n",
    "X_test_pca = pca.transform(X_test)\n",
    "\n",
    "model_7 = LinearRegression()\n",
    "model_7.fit(X_train_pca, y_train)\n",
    "\n",
    "train_pred_7 = model_7.predict(X_train_pca)\n",
    "test_pred_7 = model_7.predict(X_test_pca)\n",
    "\n",
    "print(f'''Metrics_train:\n",
    "mse={mean_squared_error(y_train, train_pred_7):.6f}\n",
    "R2={r2_score(y_train, train_pred_7):.6f}\n",
    "mae={mean_absolute_error(y_train, train_pred_7):.6f}\n",
    "mape={mean_absolute_percentage_error(y_train, train_pred_7):.6f}\n",
    "''')\n",
    "\n",
    "print(f'''Metrics_test:\n",
    "mse={mean_squared_error(y_test, test_pred_7):.6f}\n",
    "R2={r2_score(y_test, test_pred_7):.6f}\n",
    "mae={mean_absolute_error(y_test, test_pred_7):.6f}\n",
    "mape={mean_absolute_percentage_error(y_test, test_pred_7):.6f}\n",
    "''')"
   ]
  },
  {
   "cell_type": "markdown",
   "metadata": {
    "id": "wVd67ErUfcO_"
   },
   "source": [
    "**Модель Ridge + GridSearchCV + PolynomialFeatures**\n",
    "\n",
    "---"
   ]
  },
  {
   "cell_type": "code",
   "execution_count": 53,
   "metadata": {
    "id": "7RPgq9l7rnEh"
   },
   "outputs": [
    {
     "name": "stdout",
     "output_type": "stream",
     "text": [
      "Metrics_train:\n",
      "mse=3813135770733826.5\n",
      "R2=0.8000115547159784\n",
      "mae=18809634.27373614\n",
      "mape=0.5328827825726944\n",
      "\n",
      "Metrics_test:\n",
      "mse=3055796186050328.5\n",
      "R2=0.8243499576711294\n",
      "mae=19570447.273024276\n",
      "mape=0.568998758266876\n",
      "\n"
     ]
    }
   ],
   "source": [
    "from sklearn.metrics import mean_squared_error, r2_score, mean_absolute_error, mean_absolute_percentage_error\n",
    "from sklearn.linear_model import Ridge\n",
    "from sklearn.model_selection import GridSearchCV\n",
    "from sklearn.preprocessing import PolynomialFeatures\n",
    "from sklearn.pipeline import Pipeline\n",
    "\n",
    "pipeline = Pipeline([\n",
    "    ('poly', PolynomialFeatures(degree=2, include_bias=False)),\n",
    "    # ('scaler', StandardScaler()), он не нужен. данные уже скейлили\n",
    "    ('ridge', Ridge(solver='svd', max_iter=10000))\n",
    "])\n",
    "\n",
    "# param_grid = {'ridge__alpha': [0.001, 0.01, 0.1, 1, 10, 100, 1000, 10000, 25000, 35000, 100000],\n",
    "#               'poly__degree': [1, 2]}\n",
    "# уже запускали, лучшие снизу\n",
    "param_grid = {'ridge__alpha': [25000],\n",
    "              'poly__degree': [2]}\n",
    "\n",
    "plm_model = GridSearchCV(pipeline, param_grid, cv=10, n_jobs=3)\n",
    "plm_model.fit(X_train, y_train)\n",
    "\n",
    "polynom_model = plm_model.best_estimator_\n",
    "y_train_polynom = polynom_model.predict(X_train)\n",
    "y_test_polynom = polynom_model.predict(X_test)\n",
    "\n",
    "print(f'''Metrics_train:\n",
    "mse={mean_squared_error(y_train, y_train_polynom)}\n",
    "R2={r2_score(y_train, y_train_polynom)}\n",
    "mae={mean_absolute_error(y_train, y_train_polynom)}\n",
    "mape={mean_absolute_percentage_error(y_train, y_train_polynom)}\n",
    "''')\n",
    "print(f'''Metrics_test:\n",
    "mse={mean_squared_error(y_test, y_test_polynom)}\n",
    "R2={r2_score(y_test, y_test_polynom)}\n",
    "mae={mean_absolute_error(y_test, y_test_polynom)}\n",
    "mape={mean_absolute_percentage_error(y_test, y_test_polynom)}\n",
    "''')"
   ]
  },
  {
   "cell_type": "code",
   "execution_count": 54,
   "metadata": {
    "id": "JFTvgPrNayBS"
   },
   "outputs": [
    {
     "data": {
      "text/plain": [
       "metro total_area                   9876292\n",
       "total_area                         5437754\n",
       "metro kitchen_area                 5338676\n",
       "total_area county_ЦАО              4900424\n",
       "district total_area                4830489\n",
       "living_area                        4486848\n",
       "total_area^2                       4436844\n",
       "views_count is_penthouse           3988824\n",
       "total_area distance_from_center    3982291\n",
       "distance_from_center               3853488\n",
       "Name: coeff, dtype: int64"
      ]
     },
     "execution_count": 54,
     "metadata": {},
     "output_type": "execute_result"
    }
   ],
   "source": [
    "poly_features = polynom_model.named_steps['poly'].get_feature_names_out(X_train.columns)\n",
    "coeff = pd.DataFrame(polynom_model.named_steps['ridge'].coef_, poly_features, columns=['coeff'])\n",
    "coeff['coeff'].abs().sort_values(ascending=False).head(10).astype(int)"
   ]
  },
  {
   "cell_type": "code",
   "execution_count": 55,
   "metadata": {},
   "outputs": [
    {
     "data": {
      "text/plain": [
       "sale_type_dzhsk material_type_roof          0\n",
       "is_emergency county_ТАО (Троицкий)          0\n",
       "sale_type_investment material_type_roof     0\n",
       "sale_type_dzhsk sale_type_investment        0\n",
       "is_emergency material_type_roof             0\n",
       "is_emergency sale_type_dzhsk                0\n",
       "is_emergency sale_type_investment           0\n",
       "is_emergency sale_type_pdkp                 0\n",
       "sale_type_pdkp material_type_roof           1\n",
       "county_ТАО (Троицкий) material_type_roof    1\n",
       "Name: coeff, dtype: int64"
      ]
     },
     "execution_count": 55,
     "metadata": {},
     "output_type": "execute_result"
    }
   ],
   "source": [
    "coeff['coeff'].abs().sort_values(ascending=True).head(10).astype(int)"
   ]
  },
  {
   "cell_type": "code",
   "execution_count": 56,
   "metadata": {},
   "outputs": [],
   "source": [
    "import pickle\n",
    "with open('model.pickle', 'wb') as file:\n",
    "    pickle.dump({\n",
    "        'model': polynom_model,\n",
    "        'onehot_encoder': onehot_encoder,\n",
    "        'target_encoder': target_encoder,\n",
    "        'scaler': scaler\n",
    "    }, file)"
   ]
  }
 ],
 "metadata": {
  "colab": {
   "collapsed_sections": [
    "6wbg1oz_eHwe"
   ],
   "provenance": []
  },
  "kernelspec": {
   "display_name": "Python 3",
   "language": "python",
   "name": "python3"
  },
  "language_info": {
   "codemirror_mode": {
    "name": "ipython",
    "version": 3
   },
   "file_extension": ".py",
   "mimetype": "text/x-python",
   "name": "python",
   "nbconvert_exporter": "python",
   "pygments_lexer": "ipython3",
   "version": "3.11.9"
  }
 },
 "nbformat": 4,
 "nbformat_minor": 0
}
